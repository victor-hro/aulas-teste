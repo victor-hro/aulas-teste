{
 "cells": [
  {
   "cell_type": "markdown",
   "metadata": {},
   "source": [
    "# Capítulo 01: A Iniciação no Mundo dos Dados\n",
    "\n",
    "Seja bem-vindo ao emocionante mundo da Ciência de Dados! Neste primeiro capítulo, você dará os primeiros passos em direção a se tornar um ninja nessa arte. Vamos começar com o básico e construir uma base sólida para seus futuros trabalhos.\n",
    "\n",
    "**Objetivo:**\n",
    "Neste estágio inicial, é importante ter um conhecimento básico de Python. Você não precisa ser um expert, mas ter uma compreensão sólida das estruturas de dados e da sintaxe Python será fundamental para o seu sucesso.\n",
    "\n",
    "**Conteúdo:**\n",
    "Neste capítulo, vamos explorar os seguintes tópicos:\n",
    "- Introdução às estruturas de dados: listas, tuplas e dicionários.\n",
    "- Entrando no mundo dos DataFrames com o Pandas.\n",
    "- Dominando a arte dos filtros em DataFrames.\n",
    "\n",
    "**Requisitos:**\n",
    "Para tirar o máximo proveito deste capítulo, é aconselhável que você tenha conhecimentos básicos de Python. Não é necessário ser um mestre, mas ter uma compreensão sólida das estruturas de dados e da sintaxe Python será muito útil.\n",
    "\n",
    "**Instruções de Uso:**\n",
    "- Siga os blocos de código e as explicações passo a passo.\n",
    "- Experimente as técnicas nos seus próprios conjuntos de dados ou utilize os dados que forneceremos aqui.\n",
    "\n",
    "Estamos apenas começando esta jornada emocionante de aprendizado e descoberta! Vamos em frente? 😎🚀"
   ]
  },
  {
   "cell_type": "markdown",
   "metadata": {},
   "source": [
    "# Trabalhando com listas"
   ]
  },
  {
   "cell_type": "markdown",
   "metadata": {},
   "source": [
    "Claro, vou explicar com mais detalhes o que são listas e como funcionam.\n",
    "\n",
    "**O que são listas:**\n",
    "\n",
    "Em Python, uma lista é uma estrutura de dados que permite armazenar e organizar uma coleção de itens. Esses itens podem ser de qualquer tipo: números, strings (textos), objetos complexos e até mesmo outras listas. Listas são extremamente versáteis e úteis quando você precisa lidar com conjuntos de dados, pois permitem que você agrupe informações relacionadas em um único local.\n",
    "\n",
    "**Características das listas:**\n",
    "\n",
    "- **Ordem Preservada:** Os elementos em uma lista são armazenados na ordem em que foram inseridos. Isso significa que você pode acessar os elementos na mesma ordem em que os adicionou.\n",
    "\n",
    "- **Itens Diversos:** Uma lista pode conter itens de tipos diferentes. Por exemplo, você pode ter números, strings e objetos em uma única lista.\n",
    "\n",
    "- **Mutabilidade:** Listas são mutáveis, o que significa que você pode modificar, adicionar ou remover elementos após a criação da lista.\n",
    "\n",
    "\n",
    "Listas são uma ferramenta fundamental em Python e são amplamente utilizadas para armazenar e manipular dados em projetos de programação. À medida que você avança na sua jornada de aprendizado, ficará cada vez mais confortável trabalhando com listas e realizando operações sofisticadas com elas. Continue explorando e praticando! 😊📊🚀"
   ]
  },
  {
   "cell_type": "markdown",
   "metadata": {},
   "source": [
    "Acessando Elementos:\n",
    "\n",
    "Você pode acessar elementos individuais de uma lista usando índices. Por exemplo"
   ]
  },
  {
   "cell_type": "code",
   "execution_count": 17,
   "metadata": {},
   "outputs": [],
   "source": [
    "lista_filiados = ['eogabs', 'patraozim', 'parede']\n",
    "lista_idfiliado = [101010, 202020, 303030]"
   ]
  },
  {
   "cell_type": "markdown",
   "metadata": {},
   "source": [
    "Neste exemplo, `lista_filiados` é uma lista que armazena nomes de filiados, e `lista_idfiliado` é uma lista que armazena IDs correspondentes a esses filiados. Essas listas permitem que você relacione os nomes às identificações de forma organizada."
   ]
  },
  {
   "cell_type": "markdown",
   "metadata": {},
   "source": [
    "**Operações com listas:**\n",
    "\n",
    "- **Acessando Elementos:** Você pode acessar elementos em uma lista usando índices. Os índices começam em 0 para o primeiro elemento, 1 para o segundo, e assim por diante."
   ]
  },
  {
   "cell_type": "code",
   "execution_count": 18,
   "metadata": {},
   "outputs": [
    {
     "data": {
      "text/plain": [
       "'eogabs'"
      ]
     },
     "execution_count": 18,
     "metadata": {},
     "output_type": "execute_result"
    }
   ],
   "source": [
    "lista_filiados[0]  # Isso irá pegar 'eogabs'"
   ]
  },
  {
   "cell_type": "code",
   "execution_count": 19,
   "metadata": {},
   "outputs": [
    {
     "data": {
      "text/plain": [
       "202020"
      ]
     },
     "execution_count": 19,
     "metadata": {},
     "output_type": "execute_result"
    }
   ],
   "source": [
    "lista_idfiliado[1]  # Isso irá pegar 202020"
   ]
  },
  {
   "cell_type": "markdown",
   "metadata": {},
   "source": [
    "- **Adicionando Elementos:** Você pode adicionar elementos a uma lista usando o método `append`. Isso adiciona um elemento ao final da lista."
   ]
  },
  {
   "cell_type": "code",
   "execution_count": 20,
   "metadata": {},
   "outputs": [],
   "source": [
    "lista_filiados.append('cassin')"
   ]
  },
  {
   "cell_type": "code",
   "execution_count": 21,
   "metadata": {},
   "outputs": [
    {
     "data": {
      "text/plain": [
       "['eogabs', 'patraozim', 'parede', 'cassin']"
      ]
     },
     "execution_count": 21,
     "metadata": {},
     "output_type": "execute_result"
    }
   ],
   "source": [
    "lista_filiados"
   ]
  },
  {
   "cell_type": "code",
   "execution_count": 22,
   "metadata": {},
   "outputs": [
    {
     "data": {
      "text/plain": [
       "'cassin'"
      ]
     },
     "execution_count": 22,
     "metadata": {},
     "output_type": "execute_result"
    }
   ],
   "source": [
    "lista_filiados[3]"
   ]
  },
  {
   "cell_type": "code",
   "execution_count": 23,
   "metadata": {},
   "outputs": [
    {
     "data": {
      "text/plain": [
       "'cassin'"
      ]
     },
     "execution_count": 23,
     "metadata": {},
     "output_type": "execute_result"
    }
   ],
   "source": [
    "lista_filiados[-1]"
   ]
  },
  {
   "cell_type": "markdown",
   "metadata": {},
   "source": [
    "- **Removendo Elementos:** Você pode remover elementos de uma lista usando o método `remove` para remover um elemento específico ou a função `del` para remover um elemento pelo índice."
   ]
  },
  {
   "cell_type": "code",
   "execution_count": 24,
   "metadata": {},
   "outputs": [],
   "source": [
    "lista_filiados.remove('cassin')"
   ]
  },
  {
   "cell_type": "code",
   "execution_count": 25,
   "metadata": {},
   "outputs": [
    {
     "data": {
      "text/plain": [
       "['eogabs', 'patraozim', 'parede']"
      ]
     },
     "execution_count": 25,
     "metadata": {},
     "output_type": "execute_result"
    }
   ],
   "source": [
    "lista_filiados"
   ]
  },
  {
   "cell_type": "code",
   "execution_count": 26,
   "metadata": {},
   "outputs": [],
   "source": [
    "lista_filiados.append('cassin')"
   ]
  },
  {
   "cell_type": "code",
   "execution_count": 27,
   "metadata": {},
   "outputs": [],
   "source": [
    "del lista_filiados[-1]"
   ]
  },
  {
   "cell_type": "code",
   "execution_count": 28,
   "metadata": {},
   "outputs": [
    {
     "data": {
      "text/plain": [
       "['eogabs', 'patraozim', 'parede']"
      ]
     },
     "execution_count": 28,
     "metadata": {},
     "output_type": "execute_result"
    }
   ],
   "source": [
    "lista_filiados"
   ]
  },
  {
   "cell_type": "markdown",
   "metadata": {},
   "source": [
    "# Trabalhando com Tuplas\n",
    "\n",
    "Tuplas são estruturas de dados em Python que armazenam uma coleção de elementos, como listas, mas com a diferença de que são imutáveis, ou seja, não podem ser alteradas após sua criação. As tuplas são úteis quando você precisa garantir que os dados não sejam modificados acidentalmente.\n"
   ]
  },
  {
   "cell_type": "markdown",
   "metadata": {},
   "source": [
    "\n",
    "**Criando Tuplas:**"
   ]
  },
  {
   "cell_type": "code",
   "execution_count": 29,
   "metadata": {},
   "outputs": [
    {
     "data": {
      "text/plain": [
       "(1010, 2020, 3030)"
      ]
     },
     "execution_count": 29,
     "metadata": {},
     "output_type": "execute_result"
    }
   ],
   "source": [
    "# Criando uma tupla de ids\n",
    "ids = (1010, 2020, 3030)\n",
    "ids"
   ]
  },
  {
   "cell_type": "markdown",
   "metadata": {},
   "source": [
    "Neste caso, sua tupla \"ids\" contém três elementos, que são números inteiros. Você pode acessar os elementos individuais da tupla usando índices, assim como faria com uma lista. Por exemplo:"
   ]
  },
  {
   "cell_type": "code",
   "execution_count": 30,
   "metadata": {},
   "outputs": [
    {
     "data": {
      "text/plain": [
       "1010"
      ]
     },
     "execution_count": 30,
     "metadata": {},
     "output_type": "execute_result"
    }
   ],
   "source": [
    "ids[0]  # Isso irá pegar o primeiro elemento, que é 1010"
   ]
  },
  {
   "cell_type": "code",
   "execution_count": 31,
   "metadata": {},
   "outputs": [
    {
     "data": {
      "text/plain": [
       "2020"
      ]
     },
     "execution_count": 31,
     "metadata": {},
     "output_type": "execute_result"
    }
   ],
   "source": [
    "ids[1]  # Isso irá pegar o segundo elemento, que é 2020"
   ]
  },
  {
   "cell_type": "code",
   "execution_count": 32,
   "metadata": {},
   "outputs": [
    {
     "data": {
      "text/plain": [
       "3030"
      ]
     },
     "execution_count": 32,
     "metadata": {},
     "output_type": "execute_result"
    }
   ],
   "source": [
    "ids[2]  # Isso irá pegar o terceiro elemento, que é 3030"
   ]
  },
  {
   "cell_type": "markdown",
   "metadata": {},
   "source": [
    "Lembre-se de que, como as tuplas são imutáveis, você não pode adicionar, remover ou modificar elementos após a criação. Elas são úteis quando você precisa garantir que os dados não sejam acidentalmente alterados em seu código."
   ]
  },
  {
   "cell_type": "markdown",
   "metadata": {},
   "source": [
    "**Quando utilizar tuplas ao invés de listas?**"
   ]
  },
  {
   "cell_type": "markdown",
   "metadata": {},
   "source": [
    "A utilização de tuplas em vez de listas é importante em situações em que você deseja garantir que os elementos de dados sejam imutáveis, ou seja, não possam ser alterados acidentalmente durante a execução do programa. Vou fornecer um exemplo prático para ilustrar a importância disso:\n",
    "\n",
    "Suponha que você esteja trabalhando em um sistema de gerenciamento de configuração para um aplicativo de nível empresarial. Este sistema armazena informações críticas de configuração, como endereços de servidores, credenciais de banco de dados e chaves de criptografia. Você deseja garantir que essas informações não sejam modificadas acidentalmente durante a execução do programa, pois qualquer alteração indevida poderia resultar em problemas sérios de segurança ou funcionamento.\n",
    "\n",
    "Usando uma lista para armazenar essas informações de configuração, você pode ter o seguinte código:\n",
    "\n",
    "```python\n",
    "configuracao = [\n",
    "    (\"servidor\", \"localhost\"),\n",
    "    (\"banco_de_dados\", \"dados_empresariais\"),\n",
    "    (\"usuario_bd\", \"admin\"),\n",
    "    (\"senha_bd\", \"senha_secreta\")\n",
    "]\n",
    "```\n",
    "\n",
    "Aqui, estamos usando uma lista de tuplas para armazenar as informações de configuração. No entanto, como as listas são mutáveis, alguém pode modificar esses dados em algum lugar do código, introduzindo uma vulnerabilidade de segurança.\n",
    "\n",
    "Agora, vamos considerar o uso de tuplas para a mesma finalidade:\n",
    "\n",
    "```python\n",
    "configuracao = (\n",
    "    (\"servidor\", \"localhost\"),\n",
    "    (\"banco_de_dados\", \"dados_empresariais\"),\n",
    "    (\"usuario_bd\", \"admin\"),\n",
    "    (\"senha_bd\", \"senha_secreta\")\n",
    ")\n",
    "```\n",
    "\n",
    "Ao usar tuplas, você torna esses dados de configuração imutáveis. Isso significa que ninguém pode acidentalmente ou intencionalmente modificar essas informações durante a execução do programa. Qualquer tentativa de modificar uma tupla resultará em um erro, o que é desejável neste cenário.\n",
    "\n",
    "Portanto, a importância de usar tuplas em vez de listas é garantir a integridade e a imutabilidade de dados quando isso é crítico, como em situações de segurança ou configuração."
   ]
  },
  {
   "cell_type": "code",
   "execution_count": 33,
   "metadata": {},
   "outputs": [
    {
     "ename": "TypeError",
     "evalue": "'tuple' object doesn't support item deletion",
     "output_type": "error",
     "traceback": [
      "\u001b[1;31m---------------------------------------------------------------------------\u001b[0m",
      "\u001b[1;31mTypeError\u001b[0m                                 Traceback (most recent call last)",
      "\u001b[1;32mc:\\Users\\victo\\Desktop\\Victor\\Aulas\\python_for_business\\class_01\\cap01-iniciacao_no_mundo_dos_dados.ipynb Cell 31\u001b[0m line \u001b[0;36m2\n\u001b[0;32m      <a href='vscode-notebook-cell:/c%3A/Users/victo/Desktop/Victor/Aulas/python_for_business/class_01/cap01-iniciacao_no_mundo_dos_dados.ipynb#X42sZmlsZQ%3D%3D?line=0'>1</a>\u001b[0m \u001b[39m# consigo deletar algum objeto da tupla?\u001b[39;00m\n\u001b[1;32m----> <a href='vscode-notebook-cell:/c%3A/Users/victo/Desktop/Victor/Aulas/python_for_business/class_01/cap01-iniciacao_no_mundo_dos_dados.ipynb#X42sZmlsZQ%3D%3D?line=1'>2</a>\u001b[0m \u001b[39mdel\u001b[39;00m ids[\u001b[39m2\u001b[39m]\n",
      "\u001b[1;31mTypeError\u001b[0m: 'tuple' object doesn't support item deletion"
     ]
    }
   ],
   "source": [
    "# consigo deletar algum objeto da tupla?\n",
    "del ids[2]"
   ]
  },
  {
   "cell_type": "code",
   "execution_count": null,
   "metadata": {},
   "outputs": [
    {
     "ename": "TypeError",
     "evalue": "'tuple' object does not support item assignment",
     "output_type": "error",
     "traceback": [
      "\u001b[1;31m---------------------------------------------------------------------------\u001b[0m",
      "\u001b[1;31mTypeError\u001b[0m                                 Traceback (most recent call last)",
      "Cell \u001b[1;32mIn[91], line 1\u001b[0m\n\u001b[1;32m----> 1\u001b[0m ids[\u001b[39m2\u001b[39;49m] \u001b[39m=\u001b[39m \u001b[39m1010\u001b[39m\n",
      "\u001b[1;31mTypeError\u001b[0m: 'tuple' object does not support item assignment"
     ]
    }
   ],
   "source": [
    "# consigo alterar o valor de algum objeto da tupla?\n",
    "ids[2] = 1010"
   ]
  },
  {
   "cell_type": "markdown",
   "metadata": {},
   "source": [
    "# Trabalhando com Dicionários\n",
    "Dicionários são estruturas de dados em Python que armazenam pares chave-valor. Cada valor é associado a uma chave exclusiva, permitindo que você acesse rapidamente os valores usando suas chaves. Os dicionários são ideais para representar informações relacionadas em um formato estruturado.\n",
    "\n",
    "Neste exemplo, o dicionário `pessoa` contém informações sobre uma pessoa, como nome, idade e cidade.\n"
   ]
  },
  {
   "cell_type": "code",
   "execution_count": null,
   "metadata": {},
   "outputs": [
    {
     "data": {
      "text/plain": [
       "{'nome': 'Victor', 'idade': 26, 'cidade': 'Ipatinga'}"
      ]
     },
     "execution_count": 73,
     "metadata": {},
     "output_type": "execute_result"
    }
   ],
   "source": [
    "# Criando um dicionário de informações de uma pessoa\n",
    "pessoa = {\n",
    "    \"nome\": \"Victor\",\n",
    "    \"idade\": 26,\n",
    "    \"cidade\": \"Ipatinga\"\n",
    "}\n",
    "pessoa"
   ]
  },
  {
   "cell_type": "markdown",
   "metadata": {},
   "source": [
    "**Acessando Valores:**\n",
    "\n",
    "Você pode acessar os valores em um dicionário usando suas chaves. Por exemplo:"
   ]
  },
  {
   "cell_type": "code",
   "execution_count": null,
   "metadata": {},
   "outputs": [
    {
     "data": {
      "text/plain": [
       "'Victor'"
      ]
     },
     "execution_count": 74,
     "metadata": {},
     "output_type": "execute_result"
    }
   ],
   "source": [
    "pessoa[\"nome\"]"
   ]
  },
  {
   "cell_type": "code",
   "execution_count": null,
   "metadata": {},
   "outputs": [
    {
     "data": {
      "text/plain": [
       "26"
      ]
     },
     "execution_count": 75,
     "metadata": {},
     "output_type": "execute_result"
    }
   ],
   "source": [
    "pessoa[\"idade\"]"
   ]
  },
  {
   "cell_type": "code",
   "execution_count": null,
   "metadata": {},
   "outputs": [
    {
     "data": {
      "text/plain": [
       "'Ipatinga'"
      ]
     },
     "execution_count": 76,
     "metadata": {},
     "output_type": "execute_result"
    }
   ],
   "source": [
    "pessoa[\"cidade\"]"
   ]
  },
  {
   "cell_type": "markdown",
   "metadata": {},
   "source": [
    "**Adicionando e Atualizando Valores:**\n",
    "\n",
    "Você pode adicionar novos pares chave-valor ou atualizar os valores existentes em um dicionário. Por exemplo:"
   ]
  },
  {
   "cell_type": "code",
   "execution_count": null,
   "metadata": {},
   "outputs": [
    {
     "data": {
      "text/plain": [
       "{'nome': 'Victor',\n",
       " 'idade': 27,\n",
       " 'cidade': 'Ipatinga',\n",
       " 'profissao': 'Analista de Dados'}"
      ]
     },
     "execution_count": 77,
     "metadata": {},
     "output_type": "execute_result"
    }
   ],
   "source": [
    "pessoa[\"profissao\"] = \"Analista de Dados\"\n",
    "pessoa[\"idade\"] = 27  # Atualizando a idade\n",
    "pessoa"
   ]
  },
  {
   "cell_type": "markdown",
   "metadata": {},
   "source": [
    "**Removendo Chave-Valor:**\n",
    "\n",
    "Você pode remover um par chave-valor de um dicionário usando o comando `del`. Por exemplo:"
   ]
  },
  {
   "cell_type": "code",
   "execution_count": null,
   "metadata": {},
   "outputs": [
    {
     "data": {
      "text/plain": [
       "{'nome': 'Victor', 'idade': 27, 'profissao': 'Analista de Dados'}"
      ]
     },
     "execution_count": 78,
     "metadata": {},
     "output_type": "execute_result"
    }
   ],
   "source": [
    "del pessoa[\"cidade\"]  # Isso irá remover a chave \"cidade\" e seu valor\n",
    "pessoa"
   ]
  },
  {
   "cell_type": "markdown",
   "metadata": {},
   "source": [
    "**LOOP FOR:**"
   ]
  },
  {
   "cell_type": "markdown",
   "metadata": {},
   "source": [
    "Aicionando um exemplo de loop `for` usando um dicionário que contém informações de nome, idade e profissão de várias pessoas.\n",
    "Vamos supor que temos um dicionário com várias pessoas e suas informações:"
   ]
  },
  {
   "cell_type": "code",
   "execution_count": null,
   "metadata": {},
   "outputs": [
    {
     "data": {
      "text/plain": [
       "[{'nome': 'João', 'idade': 30, 'profissao': 'Engenheiro'},\n",
       " {'nome': 'Maria', 'idade': 25, 'profissao': 'Designer'},\n",
       " {'nome': 'Pedro', 'idade': 35, 'profissao': 'Programador'},\n",
       " {'nome': 'Ana', 'idade': 28, 'profissao': 'Contadora'}]"
      ]
     },
     "execution_count": 96,
     "metadata": {},
     "output_type": "execute_result"
    }
   ],
   "source": [
    "pessoas = [\n",
    "    {\"nome\": \"João\", \"idade\": 30, \"profissao\": \"Engenheiro\",},\n",
    "    {\"nome\": \"Maria\", \"idade\": 25, \"profissao\": \"Designer\"},\n",
    "    {\"nome\": \"Pedro\", \"idade\": 35, \"profissao\": \"Programador\"},\n",
    "    {\"nome\": \"Ana\", \"idade\": 28, \"profissao\": \"Contadora\"}\n",
    "]\n",
    "pessoas"
   ]
  },
  {
   "cell_type": "markdown",
   "metadata": {},
   "source": [
    "Agora, podemos usar um loop `for` para iterar sobre esse dicionário e imprimir as informações de cada pessoa:"
   ]
  },
  {
   "cell_type": "code",
   "execution_count": null,
   "metadata": {},
   "outputs": [
    {
     "name": "stdout",
     "output_type": "stream",
     "text": [
      "Nome: João, Idade: 30, Profissão: Engenheiro\n",
      "Nome: Maria, Idade: 25, Profissão: Designer\n",
      "Nome: Pedro, Idade: 35, Profissão: Programador\n",
      "Nome: Ana, Idade: 28, Profissão: Contadora\n"
     ]
    }
   ],
   "source": [
    "for pessoa in pessoas:\n",
    "    nome = pessoa[\"nome\"]\n",
    "    idade = pessoa[\"idade\"]\n",
    "    profissao = pessoa[\"profissao\"]\n",
    "    print(f\"Nome: {nome}, Idade: {idade}, Profissão: {profissao}\")"
   ]
  },
  {
   "cell_type": "markdown",
   "metadata": {},
   "source": [
    "# FOR LOOP"
   ]
  },
  {
   "cell_type": "markdown",
   "metadata": {},
   "source": [
    "Loop for:\n",
    "O loop for é usado quando você sabe antecipadamente quantas vezes deseja executar um conjunto de instruções. Ele é especialmente útil para percorrer elementos em uma sequência, como uma lista ou uma tupla."
   ]
  },
  {
   "cell_type": "code",
   "execution_count": 52,
   "metadata": {},
   "outputs": [
    {
     "name": "stdout",
     "output_type": "stream",
     "text": [
      "naruto\n",
      "minato\n",
      "kushina\n"
     ]
    }
   ],
   "source": [
    "clientes = [\"naruto\", \"minato\", \"kushina\"]\n",
    "for cliente in clientes:\n",
    "    print(cliente)"
   ]
  },
  {
   "cell_type": "markdown",
   "metadata": {},
   "source": [
    "Neste código:\n",
    "\n",
    "- `clientes` é uma lista que armazena os nomes dos clientes.\n",
    "- `ids` é uma lista que armazena os IDs correspondentes aos clientes.\n",
    "- Usamos o loop `for` em combinação com a função `zip` para percorrer simultaneamente as duas listas. A função `zip` cria pares de elementos correspondentes das duas listas.\n",
    "- Dentro do loop, a cada iteração, pegamos o nome do cliente e seu ID usando as variáveis `cliente` e `id_cliente`.\n",
    "- Finalmente, imprimimos o nome do cliente e seu ID usando uma f-string para formatar a saída.\n",
    "\n",
    "Este código demonstra como usar o `zip` para iterar sobre várias listas simultaneamente, o que pode ser útil quando você tem dados relacionados em diferentes listas."
   ]
  },
  {
   "cell_type": "code",
   "execution_count": 51,
   "metadata": {},
   "outputs": [
    {
     "name": "stdout",
     "output_type": "stream",
     "text": [
      "Cliente: naruto, id: 1\n",
      "Cliente: minato, id: 2\n",
      "Cliente: kushina, id: 3\n"
     ]
    }
   ],
   "source": [
    "# Lista de clientes\n",
    "clientes = [\"naruto\", \"minato\", \"kushina\"]\n",
    "\n",
    "# Lista de IDs correspondentes aos clientes\n",
    "ids = [1, 2, 3]\n",
    "\n",
    "# Usando o loop for com a função zip para percorrer simultaneamente as duas listas\n",
    "for cliente, id_cliente in zip(clientes, ids):\n",
    "    # Imprime o nome do cliente e seu ID\n",
    "    print(f'Cliente: {cliente}, id: {id_cliente}')"
   ]
  },
  {
   "cell_type": "markdown",
   "metadata": {},
   "source": [
    "# Exercício 1"
   ]
  },
  {
   "cell_type": "markdown",
   "metadata": {},
   "source": [
    "Explicação e instruções:\n",
    "\n",
    "1. Você recebeu dados de uma API que contém informações sobre tarefas de uma sprint.\n",
    "\n",
    "2. Seu objetivo é organizar esses dados em listas separadas para os atributos \"id\", \"titulo\" e \"descricao\" de cada tarefa.\n",
    "\n",
    "3. Para fazer isso, você precisa criar três listas vazias chamadas \"ids\", \"titulos\" e \"descricoes\".\n",
    "\n",
    "4. Dentro do loop `for`, você deve adicionar o código necessário para extrair os valores apropriados de cada tarefa e adicioná-los às listas correspondentes.\n",
    "\n",
    "5. Após o loop, você terá três listas separadas, uma para cada atributo.\n",
    "\n",
    "6. Finalmente, imprima as listas para verificar se os dados foram organizados corretamente.\n",
    "\n",
    "Vocês podem seguir as instruções e praticar a extração de informações de uma estrutura de dados complexa (os dicionários na lista `dados_da_api`) e armazená-las em listas separadas. Isso é uma habilidade útil ao trabalhar com dados do mundo real em Python."
   ]
  },
  {
   "cell_type": "code",
   "execution_count": null,
   "metadata": {},
   "outputs": [
    {
     "data": {
      "text/plain": [
       "[{'id': 1, 'titulo': 'Tarefa 1', 'descricao': 'Realizar análise de dados'},\n",
       " {'id': 2, 'titulo': 'Tarefa 2', 'descricao': 'Preparar apresentação'},\n",
       " {'id': 3, 'titulo': 'Tarefa 3', 'descricao': 'Enviar relatório'}]"
      ]
     },
     "execution_count": 99,
     "metadata": {},
     "output_type": "execute_result"
    }
   ],
   "source": [
    "# Suponha que você obteve os seguintes dados de uma API, fornecendo informações da sprint de cada funcionário\n",
    "dados_da_api = [\n",
    "    {\"id\": 1, \"titulo\": \"Tarefa 1\", \"descricao\": \"Realizar análise de dados\"},\n",
    "    {\"id\": 2, \"titulo\": \"Tarefa 2\", \"descricao\": \"Preparar apresentação\"},\n",
    "    {\"id\": 3, \"titulo\": \"Tarefa 3\", \"descricao\": \"Enviar relatório\"}\n",
    "]\n",
    "dados_da_api"
   ]
  },
  {
   "cell_type": "code",
   "execution_count": null,
   "metadata": {},
   "outputs": [
    {
     "name": "stdout",
     "output_type": "stream",
     "text": [
      "IDs: []\n",
      "Títulos: []\n",
      "Descrições: []\n"
     ]
    }
   ],
   "source": [
    "# Crie listas vazias para armazenar os diferentes atributos dos dados da API\n",
    "ids = []\n",
    "titulos = []\n",
    "descricoes = []\n",
    "\n",
    "# Organize os dados da API nas listas\n",
    "\n",
    "# Descomente e inicie o código por aqui\n",
    "# for tarefa in dados_da_api:\n",
    "\n",
    "    # ...\n",
    "    # ...\n",
    "    # ...\n",
    "\n",
    "# Agora você tem três listas separadas para ids, títulos e descrições das tarefas\n",
    "print(\"IDs:\", ids)\n",
    "print(\"Títulos:\", titulos)\n",
    "print(\"Descrições:\", descricoes)"
   ]
  },
  {
   "cell_type": "markdown",
   "metadata": {},
   "source": [
    "# Exercício 2"
   ]
  },
  {
   "cell_type": "markdown",
   "metadata": {},
   "source": [
    "**Exercício de Registro de Tarefas da Sprint**\n",
    "\n",
    "Suponha que você esteja trabalhando em um projeto de desenvolvimento ágil e precisa criar um programa para registrar as tarefas de uma sprint. Cada tarefa deve ter um ID, um título e uma descrição.\n",
    "\n",
    "Aqui está o que você deve fazer:\n",
    "\n",
    "1. Crie um dicionário vazio chamado `sprint_tasks` para armazenar as tarefas da sprint. A chave será o ID da tarefa e o valor será um dicionário com o título e a descrição.\n",
    "2. Peça ao usuário para inserir informações sobre tarefas da sprint, incluindo ID, título e descrição. Você pode usar um loop para permitir que o usuário insira várias tarefas.\n",
    "3. Adicione cada tarefa ao dicionário `sprint_tasks` como um novo par chave-valor, onde a chave é o ID da tarefa e o valor é um dicionário com o título e a descrição.\n",
    "4. Continue permitindo que o usuário insira tarefas até que eles decidam parar.\n",
    "5. Por fim, exiba o dicionário `sprint_tasks` completo, que conterá todas as tarefas registradas.\n",
    "\n",
    "Este exercício ensinará seus alunos a usar dicionários para armazenar informações estruturadas e a interagir com o usuário para preencher esses dados. Eles também aprenderão a usar loops para permitir a entrada contínua de informações até que eles decidam parar."
   ]
  },
  {
   "cell_type": "code",
   "execution_count": 53,
   "metadata": {},
   "outputs": [
    {
     "name": "stdout",
     "output_type": "stream",
     "text": [
      "\n",
      "Tarefas da Sprint:\n",
      "ID: 1\n",
      "Título: tarefa1\n",
      "Descrição: ficar a toa\n",
      "\n"
     ]
    }
   ],
   "source": [
    "# Crie um dicionário vazio para armazenar as tarefas da sprint\n",
    "sprint_tasks = {}\n",
    "\n",
    "# Peça ao usuário para inserir informações sobre as tarefas da sprint\n",
    "while True:\n",
    "    tarefa_id = input(\"Digite o ID da tarefa (ou 'sair' para finalizar): \")\n",
    "    \n",
    "    if tarefa_id.lower() == \"sair\":\n",
    "        break\n",
    "    \n",
    "    titulo = input(\"Digite o título da tarefa: \")\n",
    "    descricao = input(\"Digite a descrição da tarefa: \")\n",
    "    \n",
    "    # Adicione a tarefa ao dicionário sprint_tasks\n",
    "    sprint_tasks[tarefa_id] = {\"Título\": titulo, \"Descrição\": descricao}\n",
    "\n",
    "# Exiba o dicionário completo de tarefas da sprint\n",
    "print(\"\\nTarefas da Sprint:\")\n",
    "for tarefa_id, info in sprint_tasks.items():\n",
    "    print(f\"ID: {tarefa_id}\")\n",
    "    print(f\"Título: {info['Título']}\")\n",
    "    print(f\"Descrição: {info['Descrição']}\")\n",
    "    print()"
   ]
  },
  {
   "cell_type": "markdown",
   "metadata": {},
   "source": [
    "# Respostas dos Exercícios"
   ]
  },
  {
   "cell_type": "code",
   "execution_count": null,
   "metadata": {},
   "outputs": [
    {
     "name": "stdout",
     "output_type": "stream",
     "text": [
      "IDs: [1, 2, 3]\n",
      "Títulos: ['Tarefa 1', 'Tarefa 2', 'Tarefa 3']\n",
      "Descrições: ['Realizar análise de dados', 'Preparar apresentação', 'Enviar relatório']\n"
     ]
    }
   ],
   "source": [
    "# Suponha que você obteve os seguintes dados de uma API\n",
    "dados_da_api = [\n",
    "    {\"id\": 1, \"titulo\": \"Tarefa 1\", \"descricao\": \"Realizar análise de dados\"},\n",
    "    {\"id\": 2, \"titulo\": \"Tarefa 2\", \"descricao\": \"Preparar apresentação\"},\n",
    "    {\"id\": 3, \"titulo\": \"Tarefa 3\", \"descricao\": \"Enviar relatório\"}\n",
    "]\n",
    "\n",
    "# Crie listas vazias para armazenar os diferentes atributos dos dados da API\n",
    "ids = []\n",
    "titulos = []\n",
    "descricoes = []\n",
    "\n",
    "# Organize os dados da API nas listas\n",
    "for tarefa in dados_da_api:\n",
    "    ids.append(tarefa[\"id\"])\n",
    "    titulos.append(tarefa[\"titulo\"])\n",
    "    descricoes.append(tarefa[\"descricao\"])\n",
    "\n",
    "# Agora você tem três listas separadas para ids, títulos e descrições das tarefas\n",
    "print(\"IDs:\", ids)\n",
    "print(\"Títulos:\", titulos)\n",
    "print(\"Descrições:\", descricoes)\n"
   ]
  }
 ],
 "metadata": {
  "kernelspec": {
   "display_name": "datascience-env",
   "language": "python",
   "name": "python3"
  },
  "language_info": {
   "codemirror_mode": {
    "name": "ipython",
    "version": 3
   },
   "file_extension": ".py",
   "mimetype": "text/x-python",
   "name": "python",
   "nbconvert_exporter": "python",
   "pygments_lexer": "ipython3",
   "version": "3.10.7"
  },
  "orig_nbformat": 4
 },
 "nbformat": 4,
 "nbformat_minor": 2
}
