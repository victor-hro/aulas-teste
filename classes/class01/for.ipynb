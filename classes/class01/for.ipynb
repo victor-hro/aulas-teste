{
 "cells": [
  {
   "cell_type": "code",
   "execution_count": 46,
   "metadata": {},
   "outputs": [
    {
     "data": {
      "text/plain": [
       "['acordar', 'tomar café', 'escovar os dentes', 'almoçar', 'soneca']"
      ]
     },
     "execution_count": 46,
     "metadata": {},
     "output_type": "execute_result"
    }
   ],
   "source": [
    "lista_tarefas = ['acordar', 'tomar café', 'escovar os dentes', 'almoçar', 'soneca']\n",
    "lista_tarefas"
   ]
  },
  {
   "cell_type": "code",
   "execution_count": 44,
   "metadata": {},
   "outputs": [
    {
     "name": "stdout",
     "output_type": "stream",
     "text": [
      "acordar\n",
      "lista tarefas\n",
      "tomar café\n",
      "lista tarefas\n",
      "escovar os dentes\n",
      "lista tarefas\n",
      "almoçar\n",
      "lista tarefas\n",
      "soneca\n",
      "lista tarefas\n"
     ]
    }
   ],
   "source": [
    "# o algoritmo irá passar em item por item da lista tarefas\n",
    "# até chegar ao fim da lista.\n",
    "# quando chegar no fim, ele sai do loop for, ou seja, para.\n",
    "\n",
    "\"\"\"\n",
    "Como é a estrutura de um FOR:\n",
    "-----------------------------\n",
    "    1. o que está no final do FOR (lista_tarefas) será o objeto em que irei fazer as iterações\n",
    "        exemplo: a lista tem 5 itens. Toda vez que ela percorre um índice da lista, é uma iteração\n",
    "        Para simplificar, posso chamar de passo? Sim. Logo, cada vez que passar por um índice da lista, estou dando um\n",
    "        passo a mais.\n",
    "    2. Exemplos:\n",
    "        FOR percorrendo listas: ele itera sobre a lista\n",
    "\"\"\"\n",
    "variavel = 'lista tarefas'\n",
    "for tarefa in lista_tarefas:\n",
    "    print(tarefa)\n",
    "    print(variavel)\n"
   ]
  },
  {
   "cell_type": "code",
   "execution_count": 81,
   "metadata": {},
   "outputs": [
    {
     "name": "stdout",
     "output_type": "stream",
     "text": [
      "Novo valor para start contador 1\n",
      "Novo valor para start contador 2\n",
      "Novo valor para start contador 3\n",
      "Contagem: 3\n",
      "Novo valor para start contador 4\n",
      "Contagem: 4\n",
      "Novo valor para start contador 5\n",
      "Contagem: 5\n",
      "Novo valor para start contador 6\n",
      "Contagem: 6\n",
      "Novo valor para start contador 7\n",
      "Contagem: 7\n",
      "Novo valor para start contador 8\n",
      "Contagem: 8\n",
      "Novo valor para start contador 9\n",
      "Contagem: 9\n",
      "Novo valor para start contador 10\n"
     ]
    }
   ],
   "source": [
    "lista = [1,2,3,4,5,6,7,8,9,10]\n",
    "\n",
    "start_contador = 0\n",
    "\n",
    "for numero_lista in range(10):\n",
    "\n",
    "    if start_contador >= 3:\n",
    "        print('Contagem:', numero_lista)\n",
    "\n",
    "    start_contador = start_contador + 1\n",
    "    print('Novo valor para start contador', start_contador)"
   ]
  },
  {
   "cell_type": "code",
   "execution_count": 88,
   "metadata": {},
   "outputs": [
    {
     "name": "stdout",
     "output_type": "stream",
     "text": [
      "acordar\n",
      "tomar café\n",
      "escovar os dentes\n",
      "soneca\n"
     ]
    }
   ],
   "source": [
    "lista_tarefas = ['acordar', 'tomar café', 'escovar os dentes', 'almoçar', 'soneca']\n",
    "\n",
    "for col in lista_tarefas:\n",
    "    if col != 'almoçar':\n",
    "        print(col)"
   ]
  }
 ],
 "metadata": {
  "kernelspec": {
   "display_name": "Python 3",
   "language": "python",
   "name": "python3"
  },
  "language_info": {
   "codemirror_mode": {
    "name": "ipython",
    "version": 3
   },
   "file_extension": ".py",
   "mimetype": "text/x-python",
   "name": "python",
   "nbconvert_exporter": "python",
   "pygments_lexer": "ipython3",
   "version": "3.10.7"
  },
  "orig_nbformat": 4
 },
 "nbformat": 4,
 "nbformat_minor": 2
}
