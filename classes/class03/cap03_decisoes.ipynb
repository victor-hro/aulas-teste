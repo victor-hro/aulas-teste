{
 "cells": [
  {
   "cell_type": "markdown",
   "metadata": {},
   "source": [
    "# Aula 3: Tomando Decisões com Python: O Poder do `if` e `else`\n",
    "\n",
    "Até agora, você aprendeu sobre estruturas de dados e transformação de dados. Nesta aula, vamos introduzir uma nova habilidade essencial: a capacidade de tomar decisões com base em dados usando as estruturas condicionais `if` e `else` do Python. Prepare-se para dar vida aos seus DataFrames com estruturas condicionais!\n",
    "\n",
    "## Tópicos Abordados:\n",
    "\n",
    "1. Introdução às Estruturas Condicionais\n",
    "2. Tomando Decisões com `if`\n",
    "3. Tomando Decisões Alternativas com `else`\n",
    "4. Exemplos Práticos de Uso de `if` e `else`\n",
    "5. Combinando Transformações de Dados com Condições\n"
   ]
  },
  {
   "cell_type": "markdown",
   "metadata": {},
   "source": [
    "\n",
    "## Introdução às Estruturas Condicionais\n",
    "\n",
    "As estruturas condicionais permitem que você tome decisões com base em condições específicas. Elas são como bifurcações em seu caminho, onde você pode escolher diferentes ações com base nas circunstâncias."
   ]
  },
  {
   "cell_type": "markdown",
   "metadata": {},
   "source": [
    "### Tomando Decisões com `if`\n",
    "\n",
    "O `if` permite que você execute um bloco de código somente se uma condição for verdadeira. Veja um exemplo:\n",
    "\n",
    "```python\n",
    "idade = 25\n",
    "\n",
    "if idade < 30:\n",
    "    print(\"Você é jovem e cheio de energia!\")\n",
    "```"
   ]
  },
  {
   "cell_type": "code",
   "execution_count": 2,
   "metadata": {},
   "outputs": [],
   "source": [
    "# digite o código aqui"
   ]
  },
  {
   "cell_type": "markdown",
   "metadata": {},
   "source": [
    "### Tomando Decisões Alternativas com `else`\n",
    "\n",
    "Às vezes, você deseja executar um bloco de código se a condição não for verdadeira. O `else` é perfeito para isso:\n",
    "\n",
    "```python\n",
    "idade = 35\n",
    "\n",
    "if idade < 30:\n",
    "    print(\"Você é jovem e cheio de energia!\")\n",
    "else:\n",
    "    print(\"Você está na flor da idade!\")\n",
    "```"
   ]
  },
  {
   "cell_type": "code",
   "execution_count": 3,
   "metadata": {},
   "outputs": [],
   "source": [
    "# digite o c## Exemplos Práticos de Uso de `if` e `else`ódigo aqui"
   ]
  },
  {
   "cell_type": "markdown",
   "metadata": {},
   "source": [
    "## Exemplos Práticos de Uso de `if` e `else`"
   ]
  },
  {
   "cell_type": "code",
   "execution_count": 4,
   "metadata": {},
   "outputs": [
    {
     "data": {
      "text/html": [
       "<div>\n",
       "<style scoped>\n",
       "    .dataframe tbody tr th:only-of-type {\n",
       "        vertical-align: middle;\n",
       "    }\n",
       "\n",
       "    .dataframe tbody tr th {\n",
       "        vertical-align: top;\n",
       "    }\n",
       "\n",
       "    .dataframe thead th {\n",
       "        text-align: right;\n",
       "    }\n",
       "</style>\n",
       "<table border=\"1\" class=\"dataframe\">\n",
       "  <thead>\n",
       "    <tr style=\"text-align: right;\">\n",
       "      <th></th>\n",
       "      <th>Nome</th>\n",
       "      <th>Idade</th>\n",
       "      <th>Grupo Etário</th>\n",
       "    </tr>\n",
       "  </thead>\n",
       "  <tbody>\n",
       "    <tr>\n",
       "      <th>0</th>\n",
       "      <td>Alice</td>\n",
       "      <td>25</td>\n",
       "      <td>Jovem</td>\n",
       "    </tr>\n",
       "    <tr>\n",
       "      <th>1</th>\n",
       "      <td>Bob</td>\n",
       "      <td>30</td>\n",
       "      <td>Experiente</td>\n",
       "    </tr>\n",
       "    <tr>\n",
       "      <th>2</th>\n",
       "      <td>Carol</td>\n",
       "      <td>35</td>\n",
       "      <td>Experiente</td>\n",
       "    </tr>\n",
       "    <tr>\n",
       "      <th>3</th>\n",
       "      <td>David</td>\n",
       "      <td>40</td>\n",
       "      <td>Experiente</td>\n",
       "    </tr>\n",
       "    <tr>\n",
       "      <th>4</th>\n",
       "      <td>Eve</td>\n",
       "      <td>45</td>\n",
       "      <td>Experiente</td>\n",
       "    </tr>\n",
       "  </tbody>\n",
       "</table>\n",
       "</div>"
      ],
      "text/plain": [
       "    Nome  Idade Grupo Etário\n",
       "0  Alice     25        Jovem\n",
       "1    Bob     30   Experiente\n",
       "2  Carol     35   Experiente\n",
       "3  David     40   Experiente\n",
       "4    Eve     45   Experiente"
      ]
     },
     "execution_count": 4,
     "metadata": {},
     "output_type": "execute_result"
    }
   ],
   "source": [
    "import pandas as pd\n",
    "\n",
    "data = {'Nome': ['Alice', 'Bob', 'Carol', 'David', 'Eve'],\n",
    "        'Idade': [25, 30, 35, 40, 45]}\n",
    "\n",
    "df = pd.DataFrame(data)\n",
    "\n",
    "# Adicione uma nova coluna 'Grupo Etário' com base na idade\n",
    "df['Grupo Etário'] = ''\n",
    "\n",
    "for index, row in df.iterrows():\n",
    "    if row['Idade'] < 30:\n",
    "        df.at[index, 'Grupo Etário'] = 'Jovem'\n",
    "    else:\n",
    "        df.at[index, 'Grupo Etário'] = 'Experiente'\n",
    "\n",
    "# Exibir o DataFrame com a nova coluna\n",
    "df"
   ]
  },
  {
   "cell_type": "markdown",
   "metadata": {},
   "source": [
    "Agora que você aprendeu a tomar decisões com `if` e `else`, sua capacidade de transformar dados é ainda mais poderosa. Pratique esses feitiços em seus próprios DataFrames e veja como eles podem ajudá-lo a revelar informações interessantes. 🧙‍♂️📊🚀"
   ]
  },
  {
   "cell_type": "markdown",
   "metadata": {},
   "source": [
    "# Exercício em Grupo:"
   ]
  },
  {
   "cell_type": "markdown",
   "metadata": {},
   "source": [
    "**Gerenciamento de Clientes em uma Empresa de E-commerce**\n",
    "\n",
    "Você foi designado para gerenciar uma lista de clientes de uma empresa de e-commerce. A empresa deseja manter informações detalhadas sobre seus clientes, incluindo o valor arrecadado, a situação de pagamento e o produto mais comprado por cada cliente.\n",
    "\n",
    "Sua tarefa é criar um DataFrame que represente essas informações. Você já tem uma lista de clientes, a quantidade de mensalidades pagas, o número de inadimplências, o valor que cada cliente arrecadou e o produto mais comprado por ele. Agora, você precisa adicionar as seguintes informações:\n",
    "\n",
    "1. **DataFrame:** Transforme tudo num dataframe.\n",
    "   \n",
    "2. **Situação de Pagamento:** Com base no número de inadimplências, classifique os clientes como \"adimplentes\" se não tiverem inadimplências e \"inadimplentes\" se tiverem uma ou mais inadimplências.\n",
    "\n",
    "Crie um DataFrame que contenha todas essas informações e exiba o resultado final.\n",
    "\n",
    "Observação: Os dados de exemplo fornecidos na tarefa podem ser usados como ponto de partida, você pode ficar livre para criar novos dados a partir dela."
   ]
  },
  {
   "cell_type": "markdown",
   "metadata": {},
   "source": [
    "## Utilizando IF e ELSE"
   ]
  },
  {
   "cell_type": "code",
   "execution_count": 25,
   "metadata": {},
   "outputs": [
    {
     "data": {
      "text/html": [
       "<div>\n",
       "<style scoped>\n",
       "    .dataframe tbody tr th:only-of-type {\n",
       "        vertical-align: middle;\n",
       "    }\n",
       "\n",
       "    .dataframe tbody tr th {\n",
       "        vertical-align: top;\n",
       "    }\n",
       "\n",
       "    .dataframe thead th {\n",
       "        text-align: right;\n",
       "    }\n",
       "</style>\n",
       "<table border=\"1\" class=\"dataframe\">\n",
       "  <thead>\n",
       "    <tr style=\"text-align: right;\">\n",
       "      <th></th>\n",
       "      <th>clientes</th>\n",
       "      <th>mensalidades_pagas</th>\n",
       "      <th>inadimplencias</th>\n",
       "      <th>valor_arrecadado</th>\n",
       "      <th>produto_mais_comprado</th>\n",
       "      <th>situacao</th>\n",
       "    </tr>\n",
       "  </thead>\n",
       "  <tbody>\n",
       "    <tr>\n",
       "      <th>0</th>\n",
       "      <td>João</td>\n",
       "      <td>12</td>\n",
       "      <td>0</td>\n",
       "      <td>1200</td>\n",
       "      <td>Camiseta</td>\n",
       "      <td>adimplente</td>\n",
       "    </tr>\n",
       "    <tr>\n",
       "      <th>1</th>\n",
       "      <td>Maria</td>\n",
       "      <td>11</td>\n",
       "      <td>2</td>\n",
       "      <td>1210</td>\n",
       "      <td>Calça</td>\n",
       "      <td>inadimplente</td>\n",
       "    </tr>\n",
       "    <tr>\n",
       "      <th>2</th>\n",
       "      <td>Pedro</td>\n",
       "      <td>10</td>\n",
       "      <td>1</td>\n",
       "      <td>1000</td>\n",
       "      <td>Tênis</td>\n",
       "      <td>inadimplente</td>\n",
       "    </tr>\n",
       "    <tr>\n",
       "      <th>3</th>\n",
       "      <td>Ana</td>\n",
       "      <td>12</td>\n",
       "      <td>0</td>\n",
       "      <td>1200</td>\n",
       "      <td>Camiseta</td>\n",
       "      <td>adimplente</td>\n",
       "    </tr>\n",
       "    <tr>\n",
       "      <th>4</th>\n",
       "      <td>Sakura</td>\n",
       "      <td>9</td>\n",
       "      <td>3</td>\n",
       "      <td>900</td>\n",
       "      <td>Livro</td>\n",
       "      <td>inadimplente</td>\n",
       "    </tr>\n",
       "    <tr>\n",
       "      <th>5</th>\n",
       "      <td>Naruto</td>\n",
       "      <td>10</td>\n",
       "      <td>0</td>\n",
       "      <td>1000</td>\n",
       "      <td>Mangá</td>\n",
       "      <td>adimplente</td>\n",
       "    </tr>\n",
       "    <tr>\n",
       "      <th>6</th>\n",
       "      <td>Sasuke</td>\n",
       "      <td>11</td>\n",
       "      <td>2</td>\n",
       "      <td>1100</td>\n",
       "      <td>Mangá</td>\n",
       "      <td>inadimplente</td>\n",
       "    </tr>\n",
       "    <tr>\n",
       "      <th>7</th>\n",
       "      <td>Mikasa</td>\n",
       "      <td>12</td>\n",
       "      <td>1</td>\n",
       "      <td>1200</td>\n",
       "      <td>Vestido</td>\n",
       "      <td>inadimplente</td>\n",
       "    </tr>\n",
       "    <tr>\n",
       "      <th>8</th>\n",
       "      <td>Goku</td>\n",
       "      <td>8</td>\n",
       "      <td>4</td>\n",
       "      <td>800</td>\n",
       "      <td>Console</td>\n",
       "      <td>inadimplente</td>\n",
       "    </tr>\n",
       "    <tr>\n",
       "      <th>9</th>\n",
       "      <td>Vegeta</td>\n",
       "      <td>9</td>\n",
       "      <td>3</td>\n",
       "      <td>900</td>\n",
       "      <td>Figura</td>\n",
       "      <td>inadimplente</td>\n",
       "    </tr>\n",
       "    <tr>\n",
       "      <th>10</th>\n",
       "      <td>Luffy</td>\n",
       "      <td>10</td>\n",
       "      <td>2</td>\n",
       "      <td>1000</td>\n",
       "      <td>Chapéu</td>\n",
       "      <td>inadimplente</td>\n",
       "    </tr>\n",
       "    <tr>\n",
       "      <th>11</th>\n",
       "      <td>Saitama</td>\n",
       "      <td>11</td>\n",
       "      <td>0</td>\n",
       "      <td>1100</td>\n",
       "      <td>Cinturão</td>\n",
       "      <td>adimplente</td>\n",
       "    </tr>\n",
       "    <tr>\n",
       "      <th>12</th>\n",
       "      <td>Eren</td>\n",
       "      <td>10</td>\n",
       "      <td>7</td>\n",
       "      <td>1000</td>\n",
       "      <td>Espada</td>\n",
       "      <td>inadimplente</td>\n",
       "    </tr>\n",
       "    <tr>\n",
       "      <th>13</th>\n",
       "      <td>Minato</td>\n",
       "      <td>11</td>\n",
       "      <td>6</td>\n",
       "      <td>1100</td>\n",
       "      <td>Roupão</td>\n",
       "      <td>inadimplente</td>\n",
       "    </tr>\n",
       "  </tbody>\n",
       "</table>\n",
       "</div>"
      ],
      "text/plain": [
       "   clientes  mensalidades_pagas  inadimplencias  valor_arrecadado  \\\n",
       "0      João                  12               0              1200   \n",
       "1     Maria                  11               2              1210   \n",
       "2     Pedro                  10               1              1000   \n",
       "3       Ana                  12               0              1200   \n",
       "4    Sakura                   9               3               900   \n",
       "5    Naruto                  10               0              1000   \n",
       "6    Sasuke                  11               2              1100   \n",
       "7    Mikasa                  12               1              1200   \n",
       "8      Goku                   8               4               800   \n",
       "9    Vegeta                   9               3               900   \n",
       "10    Luffy                  10               2              1000   \n",
       "11  Saitama                  11               0              1100   \n",
       "12     Eren                  10               7              1000   \n",
       "13   Minato                  11               6              1100   \n",
       "\n",
       "   produto_mais_comprado      situacao  \n",
       "0               Camiseta    adimplente  \n",
       "1                  Calça  inadimplente  \n",
       "2                  Tênis  inadimplente  \n",
       "3               Camiseta    adimplente  \n",
       "4                  Livro  inadimplente  \n",
       "5                  Mangá    adimplente  \n",
       "6                  Mangá  inadimplente  \n",
       "7                Vestido  inadimplente  \n",
       "8                Console  inadimplente  \n",
       "9                 Figura  inadimplente  \n",
       "10                Chapéu  inadimplente  \n",
       "11              Cinturão    adimplente  \n",
       "12                Espada  inadimplente  \n",
       "13                Roupão  inadimplente  "
      ]
     },
     "execution_count": 25,
     "metadata": {},
     "output_type": "execute_result"
    }
   ],
   "source": [
    "# Importar a biblioteca pandas\n",
    "import pandas as pd\n",
    "\n",
    "# Criar dados de exemplo\n",
    "clientes = [\"João\", \"Maria\", \"Pedro\", \"Ana\", \"Sakura\", \"Naruto\", \"Sasuke\", \"Mikasa\", \"Goku\", \"Vegeta\", \"Luffy\", \"Saitama\", \"Eren\", \"Minato\"]\n",
    "mensalidades_pagas = [12, 11, 10, 12, 9, 10, 11, 12, 8, 9, 10, 11, 10, 11]\n",
    "inadimplencias = [0, 2, 1, 0, 3, 0, 2, 1, 4, 3, 2, 0, 7, 6]\n",
    "valor_arrecadado = [1200, 1210, 1000, 1200, 900, 1000, 1100, 1200, 800, 900, 1000, 1100, 1000, 1100]\n",
    "produto_mais_comprado = [\"Camiseta\", \"Calça\", \"Tênis\", \"Camiseta\", \"Livro\", \"Mangá\", \"Mangá\", \"Vestido\", \"Console\", \"Figura\", \"Chapéu\", \"Cinturão\", \"Espada\", \"Roupão\"]\n",
    "\n",
    "# Criar um DataFrame\n",
    "dados = {\n",
    "    'clientes': clientes,\n",
    "    'mensalidades_pagas': mensalidades_pagas,\n",
    "    'inadimplencias': inadimplencias,\n",
    "    'valor_arrecadado': valor_arrecadado,\n",
    "    'produto_mais_comprado': produto_mais_comprado\n",
    "    }\n",
    "df = pd.DataFrame(dados)\n",
    "\n",
    "\n",
    "# Classificação de clientes com estruturas condicionais\n",
    "df['situacao'] = \"\"\n",
    "for i in range(len(df)):\n",
    "    if df['inadimplencias'][i] > 0:\n",
    "        df.at[i, 'situacao'] = 'inadimplente'\n",
    "    else:\n",
    "        df.at[i, 'situacao'] = 'adimplente'\n",
    "\n",
    "# Exibir o DataFrame final\n",
    "df"
   ]
  },
  {
   "cell_type": "markdown",
   "metadata": {},
   "source": [
    "## Habilidade desbloqueada: Utilizando .loc"
   ]
  },
  {
   "cell_type": "code",
   "execution_count": 24,
   "metadata": {},
   "outputs": [
    {
     "name": "stderr",
     "output_type": "stream",
     "text": [
      "C:\\Users\\victo\\AppData\\Local\\Temp\\ipykernel_10248\\2353622244.py:19: FutureWarning: Setting an item of incompatible dtype is deprecated and will raise in a future error of pandas. Value 'inadimplente' has dtype incompatible with float64, please explicitly cast to a compatible dtype first.\n",
      "  df.loc[df['inadimplencias'] > 0, 'situacao'] = 'inadimplente'\n"
     ]
    },
    {
     "data": {
      "text/html": [
       "<div>\n",
       "<style scoped>\n",
       "    .dataframe tbody tr th:only-of-type {\n",
       "        vertical-align: middle;\n",
       "    }\n",
       "\n",
       "    .dataframe tbody tr th {\n",
       "        vertical-align: top;\n",
       "    }\n",
       "\n",
       "    .dataframe thead th {\n",
       "        text-align: right;\n",
       "    }\n",
       "</style>\n",
       "<table border=\"1\" class=\"dataframe\">\n",
       "  <thead>\n",
       "    <tr style=\"text-align: right;\">\n",
       "      <th></th>\n",
       "      <th>clientes</th>\n",
       "      <th>mensalidades_pagas</th>\n",
       "      <th>inadimplencias</th>\n",
       "      <th>valor_arrecadado</th>\n",
       "      <th>produto_mais_comprado</th>\n",
       "      <th>situacao</th>\n",
       "    </tr>\n",
       "  </thead>\n",
       "  <tbody>\n",
       "    <tr>\n",
       "      <th>0</th>\n",
       "      <td>João</td>\n",
       "      <td>12</td>\n",
       "      <td>0</td>\n",
       "      <td>1200</td>\n",
       "      <td>Camiseta</td>\n",
       "      <td>adimplente</td>\n",
       "    </tr>\n",
       "    <tr>\n",
       "      <th>1</th>\n",
       "      <td>Maria</td>\n",
       "      <td>11</td>\n",
       "      <td>2</td>\n",
       "      <td>1210</td>\n",
       "      <td>Calça</td>\n",
       "      <td>inadimplente</td>\n",
       "    </tr>\n",
       "    <tr>\n",
       "      <th>2</th>\n",
       "      <td>Pedro</td>\n",
       "      <td>10</td>\n",
       "      <td>1</td>\n",
       "      <td>1000</td>\n",
       "      <td>Tênis</td>\n",
       "      <td>inadimplente</td>\n",
       "    </tr>\n",
       "    <tr>\n",
       "      <th>3</th>\n",
       "      <td>Ana</td>\n",
       "      <td>12</td>\n",
       "      <td>0</td>\n",
       "      <td>1200</td>\n",
       "      <td>Camiseta</td>\n",
       "      <td>adimplente</td>\n",
       "    </tr>\n",
       "    <tr>\n",
       "      <th>4</th>\n",
       "      <td>Sakura</td>\n",
       "      <td>9</td>\n",
       "      <td>3</td>\n",
       "      <td>900</td>\n",
       "      <td>Livro</td>\n",
       "      <td>inadimplente</td>\n",
       "    </tr>\n",
       "    <tr>\n",
       "      <th>5</th>\n",
       "      <td>Naruto</td>\n",
       "      <td>10</td>\n",
       "      <td>0</td>\n",
       "      <td>1000</td>\n",
       "      <td>Mangá</td>\n",
       "      <td>adimplente</td>\n",
       "    </tr>\n",
       "    <tr>\n",
       "      <th>6</th>\n",
       "      <td>Sasuke</td>\n",
       "      <td>11</td>\n",
       "      <td>2</td>\n",
       "      <td>1100</td>\n",
       "      <td>Mangá</td>\n",
       "      <td>inadimplente</td>\n",
       "    </tr>\n",
       "    <tr>\n",
       "      <th>7</th>\n",
       "      <td>Mikasa</td>\n",
       "      <td>12</td>\n",
       "      <td>1</td>\n",
       "      <td>1200</td>\n",
       "      <td>Vestido</td>\n",
       "      <td>inadimplente</td>\n",
       "    </tr>\n",
       "    <tr>\n",
       "      <th>8</th>\n",
       "      <td>Goku</td>\n",
       "      <td>8</td>\n",
       "      <td>4</td>\n",
       "      <td>800</td>\n",
       "      <td>Console</td>\n",
       "      <td>inadimplente</td>\n",
       "    </tr>\n",
       "    <tr>\n",
       "      <th>9</th>\n",
       "      <td>Vegeta</td>\n",
       "      <td>9</td>\n",
       "      <td>3</td>\n",
       "      <td>900</td>\n",
       "      <td>Figura</td>\n",
       "      <td>inadimplente</td>\n",
       "    </tr>\n",
       "    <tr>\n",
       "      <th>10</th>\n",
       "      <td>Luffy</td>\n",
       "      <td>10</td>\n",
       "      <td>2</td>\n",
       "      <td>1000</td>\n",
       "      <td>Chapéu</td>\n",
       "      <td>inadimplente</td>\n",
       "    </tr>\n",
       "    <tr>\n",
       "      <th>11</th>\n",
       "      <td>Saitama</td>\n",
       "      <td>11</td>\n",
       "      <td>0</td>\n",
       "      <td>1100</td>\n",
       "      <td>Cinturão</td>\n",
       "      <td>adimplente</td>\n",
       "    </tr>\n",
       "    <tr>\n",
       "      <th>12</th>\n",
       "      <td>Eren</td>\n",
       "      <td>10</td>\n",
       "      <td>7</td>\n",
       "      <td>1000</td>\n",
       "      <td>Espada</td>\n",
       "      <td>inadimplente</td>\n",
       "    </tr>\n",
       "    <tr>\n",
       "      <th>13</th>\n",
       "      <td>Minato</td>\n",
       "      <td>11</td>\n",
       "      <td>6</td>\n",
       "      <td>1100</td>\n",
       "      <td>Roupão</td>\n",
       "      <td>inadimplente</td>\n",
       "    </tr>\n",
       "  </tbody>\n",
       "</table>\n",
       "</div>"
      ],
      "text/plain": [
       "   clientes  mensalidades_pagas  inadimplencias  valor_arrecadado  \\\n",
       "0      João                  12               0              1200   \n",
       "1     Maria                  11               2              1210   \n",
       "2     Pedro                  10               1              1000   \n",
       "3       Ana                  12               0              1200   \n",
       "4    Sakura                   9               3               900   \n",
       "5    Naruto                  10               0              1000   \n",
       "6    Sasuke                  11               2              1100   \n",
       "7    Mikasa                  12               1              1200   \n",
       "8      Goku                   8               4               800   \n",
       "9    Vegeta                   9               3               900   \n",
       "10    Luffy                  10               2              1000   \n",
       "11  Saitama                  11               0              1100   \n",
       "12     Eren                  10               7              1000   \n",
       "13   Minato                  11               6              1100   \n",
       "\n",
       "   produto_mais_comprado      situacao  \n",
       "0               Camiseta    adimplente  \n",
       "1                  Calça  inadimplente  \n",
       "2                  Tênis  inadimplente  \n",
       "3               Camiseta    adimplente  \n",
       "4                  Livro  inadimplente  \n",
       "5                  Mangá    adimplente  \n",
       "6                  Mangá  inadimplente  \n",
       "7                Vestido  inadimplente  \n",
       "8                Console  inadimplente  \n",
       "9                 Figura  inadimplente  \n",
       "10                Chapéu  inadimplente  \n",
       "11              Cinturão    adimplente  \n",
       "12                Espada  inadimplente  \n",
       "13                Roupão  inadimplente  "
      ]
     },
     "execution_count": 24,
     "metadata": {},
     "output_type": "execute_result"
    }
   ],
   "source": [
    "import pandas as pd\n",
    "\n",
    "clientes = [\"João\", \"Maria\", \"Pedro\", \"Ana\", \"Sakura\", \"Naruto\", \"Sasuke\", \"Mikasa\", \"Goku\", \"Vegeta\", \"Luffy\", \"Saitama\", \"Eren\", \"Minato\"]\n",
    "mensalidades_pagas = [12, 11, 10, 12, 9, 10, 11, 12, 8, 9, 10, 11, 10, 11]\n",
    "inadimplencias = [0, 2, 1, 0, 3, 0, 2, 1, 4, 3, 2, 0, 7, 6]\n",
    "valor_arrecadado = [1200, 1210, 1000, 1200, 900, 1000, 1100, 1200, 800, 900, 1000, 1100, 1000, 1100]\n",
    "produto_mais_comprado = [\"Camiseta\", \"Calça\", \"Tênis\", \"Camiseta\", \"Livro\", \"Mangá\", \"Mangá\", \"Vestido\", \"Console\", \"Figura\", \"Chapéu\", \"Cinturão\", \"Espada\", \"Roupão\"]\n",
    "\n",
    "dados = {\n",
    "    'clientes': clientes,\n",
    "    'mensalidades_pagas': mensalidades_pagas,\n",
    "    'inadimplencias': inadimplencias,\n",
    "    'valor_arrecadado': valor_arrecadado,\n",
    "    'produto_mais_comprado': produto_mais_comprado\n",
    "    }\n",
    "\n",
    "df = pd.DataFrame(dados)\n",
    "\n",
    "df.loc[df['inadimplencias'] > 0, 'situacao'] = 'inadimplente'\n",
    "df.loc[df['inadimplencias'] == 0, 'situacao'] = 'adimplente'\n",
    "\n",
    "df"
   ]
  },
  {
   "cell_type": "markdown",
   "metadata": {},
   "source": [
    "# Exercício"
   ]
  },
  {
   "cell_type": "markdown",
   "metadata": {},
   "source": [
    "**Perguntas:**\n",
    "\n",
    "1. Qual é o valor total arrecadado pela empresa?"
   ]
  },
  {
   "cell_type": "code",
   "execution_count": 26,
   "metadata": {},
   "outputs": [
    {
     "name": "stdout",
     "output_type": "stream",
     "text": [
      "O valor total arrecadado pela empresa é R$ 14710.00\n"
     ]
    }
   ],
   "source": [
    "valor_total_arrecadado = df['valor_arrecadado'].sum()\n",
    "print(f\"O valor total arrecadado pela empresa é R$ {valor_total_arrecadado:.2f}\")"
   ]
  },
  {
   "cell_type": "markdown",
   "metadata": {},
   "source": [
    "2. Quantos clientes estão em situação de inadimplência?"
   ]
  },
  {
   "cell_type": "code",
   "execution_count": 27,
   "metadata": {},
   "outputs": [
    {
     "name": "stdout",
     "output_type": "stream",
     "text": [
      "Há 10 clientes em situação de inadimplência.\n"
     ]
    }
   ],
   "source": [
    "clientes_inadimplentes = df[df['situacao'] == 'inadimplente']\n",
    "quantidade_inadimplentes = len(clientes_inadimplentes)\n",
    "print(f\"Há {quantidade_inadimplentes} clientes em situação de inadimplência.\")"
   ]
  },
  {
   "cell_type": "markdown",
   "metadata": {},
   "source": [
    "3. Qual é o produto mais comprado pelos clientes adimplentes?"
   ]
  },
  {
   "cell_type": "code",
   "execution_count": 28,
   "metadata": {},
   "outputs": [
    {
     "name": "stdout",
     "output_type": "stream",
     "text": [
      "O produto mais comprado pelos clientes adimplentes é: Camiseta\n"
     ]
    }
   ],
   "source": [
    "clientes_adimplentes = df[df['situacao'] == 'adimplente']\n",
    "produto_mais_comprado_adimplentes = clientes_adimplentes['produto_mais_comprado'].mode()[0]\n",
    "print(f\"O produto mais comprado pelos clientes adimplentes é: {produto_mais_comprado_adimplentes}\")"
   ]
  },
  {
   "cell_type": "markdown",
   "metadata": {},
   "source": [
    "4. Qual é o cliente com o maior número de inadimplências?"
   ]
  },
  {
   "cell_type": "code",
   "execution_count": 30,
   "metadata": {},
   "outputs": [
    {
     "name": "stdout",
     "output_type": "stream",
     "text": [
      "O cliente com o maior número de inadimplências é Eren com 7 inadimplências.\n"
     ]
    }
   ],
   "source": [
    "cliente_maior_inadimplencia = df[df['inadimplencias'] == df['inadimplencias'].max()]['clientes'].values[0]\n",
    "maior_inadimplencia = df['inadimplencias'].max()\n",
    "print(f\"O cliente com o maior número de inadimplências é {cliente_maior_inadimplencia} com {maior_inadimplencia} inadimplências.\")"
   ]
  },
  {
   "cell_type": "markdown",
   "metadata": {},
   "source": [
    "5. Qual é a média de mensalidades pagas pelos clientes?"
   ]
  },
  {
   "cell_type": "code",
   "execution_count": 31,
   "metadata": {},
   "outputs": [
    {
     "name": "stdout",
     "output_type": "stream",
     "text": [
      "A média de mensalidades pagas pelos clientes é 10.43\n"
     ]
    }
   ],
   "source": [
    "media_mensalidades_pagas = df['mensalidades_pagas'].mean()\n",
    "print(f\"A média de mensalidades pagas pelos clientes é {media_mensalidades_pagas:.2f}\")"
   ]
  },
  {
   "cell_type": "markdown",
   "metadata": {},
   "source": [
    "6. Qual é o valor médio arrecadado pela empresa por cliente adimplente?"
   ]
  },
  {
   "cell_type": "code",
   "execution_count": 32,
   "metadata": {},
   "outputs": [
    {
     "name": "stdout",
     "output_type": "stream",
     "text": [
      "O valor médio arrecadado pela empresa por cliente adimplente é R$ 1125.00\n"
     ]
    }
   ],
   "source": [
    "valor_medio_arrecadado_adimplentes = clientes_adimplentes['valor_arrecadado'].mean()\n",
    "print(f\"O valor médio arrecadado pela empresa por cliente adimplente é R$ {valor_medio_arrecadado_adimplentes:.2f}\")"
   ]
  },
  {
   "cell_type": "markdown",
   "metadata": {},
   "source": [
    "# Curiosidades"
   ]
  },
  {
   "cell_type": "markdown",
   "metadata": {},
   "source": [
    "Avançado: Funções Lambda"
   ]
  },
  {
   "cell_type": "markdown",
   "metadata": {},
   "source": [
    "## Avançado: Funções Lambda\n",
    "\n",
    "Agora, vamos dar uma olhada em funções lambda em Python e como você pode usá-las para operações simples em DataFrames. As funções lambda são funções anônimas que podem ser definidas em uma única linha.\n",
    "\n",
    "### Exemplo de Função Lambda Simples\n",
    "\n",
    "Antes de explorar as funções lambda com DataFrames, vamos dar uma olhada em um exemplo simples. Uma função lambda é uma função anônima que pode ser usada para executar operações rápidas. Aqui está um exemplo de uma função lambda que adiciona dois números:"
   ]
  },
  {
   "cell_type": "code",
   "execution_count": 46,
   "metadata": {},
   "outputs": [
    {
     "name": "stdout",
     "output_type": "stream",
     "text": [
      "5 duplicado é igual a 10\n"
     ]
    }
   ],
   "source": [
    "numero = int(input(\"Digite um número: \"))  # Solicita um número ao usuário\n",
    "\n",
    "double = lambda x: x * 2\n",
    "resultado = double(numero)\n",
    "print(f\"{numero} duplicado é igual a {resultado}\")"
   ]
  },
  {
   "cell_type": "code",
   "execution_count": 47,
   "metadata": {},
   "outputs": [
    {
     "name": "stdout",
     "output_type": "stream",
     "text": [
      "5 + 3 = 8\n"
     ]
    }
   ],
   "source": [
    "add = lambda x, y: x + y\n",
    "resultado = add(5, 3)\n",
    "print(\"5 + 3 =\", resultado)"
   ]
  },
  {
   "cell_type": "markdown",
   "metadata": {},
   "source": [
    "## Avançado: Funções Lambda\n",
    "\n",
    "Agora, vamos dar uma olhada em funções lambda em Python e como você pode usá-las para operações simples em DataFrames. As funções lambda são funções anônimas que podem ser definidas em uma única linha.\n",
    "\n",
    "Suponha que você tenha um DataFrame chamado `df` e deseja criar uma coluna chamada 'situacao' com base na coluna 'inadimplencias'. Você pode usar a função `apply` em combinação com uma função lambda para fazer isso.\n",
    "\n",
    "Aqui está o código:\n",
    "\n",
    "```python\n",
    "# Usar a função apply para criar a coluna 'situacao'\n",
    "df['situacao'] = df['inadimplencias'].apply(lambda x: 'inadimplente' if x > 0 else 'adimplente')\n",
    "```\n",
    "\n",
    "Neste código, usamos a função `apply` para aplicar uma função lambda a cada valor na coluna 'inadimplencias'. A função lambda verifica se o valor é maior que zero e, se for verdade, atribui 'inadimplente' à nova coluna 'situacao', caso contrário, atribui 'adimplente'.\n",
    "\n",
    "O DataFrame resultante terá uma nova coluna 'situacao' que classifica cada entrada como 'inadimplente' ou 'adimplente' com base nas inadimplências.\n",
    "\n",
    "Isso é apenas um exemplo de como as funções lambda podem ser usadas em DataFrames para realizar tarefas simples e rápidas.\n",
    "\n",
    "Espero que essas explicações tenham ajudado a tornar o seu notebook mais didático e informativo.\n",
    "```"
   ]
  },
  {
   "cell_type": "code",
   "execution_count": 48,
   "metadata": {},
   "outputs": [],
   "source": [
    "clientes = [\"João\", \"Maria\", \"Pedro\", \"Ana\", \"Sakura\", \"Naruto\", \"Sasuke\", \"Mikasa\", \"Goku\", \"Vegeta\", \"Luffy\", \"Saitama\", \"Eren\", \"Minato\"]\n",
    "mensalidades_pagas = [12, 11, 10, 12, 9, 10, 11, 12, 8, 9, 10, 11, 10, 11]\n",
    "inadimplencias = [0, 2, 1, 0, 3, 0, 2, 1, 4, 3, 2, 0, 7, 6]\n",
    "valor_arrecadado = [1200, 1210, 1000, 1200, 900, 1000, 1100, 1200, 800, 900, 1000, 1100, 1000, 1100]\n",
    "produto_mais_comprado = [\"Camiseta\", \"Calça\", \"Tênis\", \"Camiseta\", \"Livro\", \"Mangá\", \"Mangá\", \"Vestido\", \"Console\", \"Figura\", \"Chapéu\", \"Cinturão\", \"Espada\", \"Roupão\"]\n",
    "\n",
    "dados = {\n",
    "    'clientes': clientes,\n",
    "    'mensalidades_pagas': mensalidades_pagas,\n",
    "    'inadimplencias': inadimplencias,\n",
    "    'valor_arrecadado': valor_arrecadado,\n",
    "    'produto_mais_comprado': produto_mais_comprado\n",
    "    }\n",
    "\n",
    "df = pd.DataFrame(dados)"
   ]
  },
  {
   "cell_type": "code",
   "execution_count": 49,
   "metadata": {},
   "outputs": [
    {
     "data": {
      "text/html": [
       "<div>\n",
       "<style scoped>\n",
       "    .dataframe tbody tr th:only-of-type {\n",
       "        vertical-align: middle;\n",
       "    }\n",
       "\n",
       "    .dataframe tbody tr th {\n",
       "        vertical-align: top;\n",
       "    }\n",
       "\n",
       "    .dataframe thead th {\n",
       "        text-align: right;\n",
       "    }\n",
       "</style>\n",
       "<table border=\"1\" class=\"dataframe\">\n",
       "  <thead>\n",
       "    <tr style=\"text-align: right;\">\n",
       "      <th></th>\n",
       "      <th>clientes</th>\n",
       "      <th>mensalidades_pagas</th>\n",
       "      <th>inadimplencias</th>\n",
       "      <th>valor_arrecadado</th>\n",
       "      <th>produto_mais_comprado</th>\n",
       "      <th>situacao</th>\n",
       "    </tr>\n",
       "  </thead>\n",
       "  <tbody>\n",
       "    <tr>\n",
       "      <th>0</th>\n",
       "      <td>João</td>\n",
       "      <td>12</td>\n",
       "      <td>0</td>\n",
       "      <td>1200</td>\n",
       "      <td>Camiseta</td>\n",
       "      <td>adimplente</td>\n",
       "    </tr>\n",
       "    <tr>\n",
       "      <th>1</th>\n",
       "      <td>Maria</td>\n",
       "      <td>11</td>\n",
       "      <td>2</td>\n",
       "      <td>1210</td>\n",
       "      <td>Calça</td>\n",
       "      <td>inadimplente</td>\n",
       "    </tr>\n",
       "    <tr>\n",
       "      <th>2</th>\n",
       "      <td>Pedro</td>\n",
       "      <td>10</td>\n",
       "      <td>1</td>\n",
       "      <td>1000</td>\n",
       "      <td>Tênis</td>\n",
       "      <td>inadimplente</td>\n",
       "    </tr>\n",
       "    <tr>\n",
       "      <th>3</th>\n",
       "      <td>Ana</td>\n",
       "      <td>12</td>\n",
       "      <td>0</td>\n",
       "      <td>1200</td>\n",
       "      <td>Camiseta</td>\n",
       "      <td>adimplente</td>\n",
       "    </tr>\n",
       "    <tr>\n",
       "      <th>4</th>\n",
       "      <td>Sakura</td>\n",
       "      <td>9</td>\n",
       "      <td>3</td>\n",
       "      <td>900</td>\n",
       "      <td>Livro</td>\n",
       "      <td>inadimplente</td>\n",
       "    </tr>\n",
       "    <tr>\n",
       "      <th>5</th>\n",
       "      <td>Naruto</td>\n",
       "      <td>10</td>\n",
       "      <td>0</td>\n",
       "      <td>1000</td>\n",
       "      <td>Mangá</td>\n",
       "      <td>adimplente</td>\n",
       "    </tr>\n",
       "    <tr>\n",
       "      <th>6</th>\n",
       "      <td>Sasuke</td>\n",
       "      <td>11</td>\n",
       "      <td>2</td>\n",
       "      <td>1100</td>\n",
       "      <td>Mangá</td>\n",
       "      <td>inadimplente</td>\n",
       "    </tr>\n",
       "    <tr>\n",
       "      <th>7</th>\n",
       "      <td>Mikasa</td>\n",
       "      <td>12</td>\n",
       "      <td>1</td>\n",
       "      <td>1200</td>\n",
       "      <td>Vestido</td>\n",
       "      <td>inadimplente</td>\n",
       "    </tr>\n",
       "    <tr>\n",
       "      <th>8</th>\n",
       "      <td>Goku</td>\n",
       "      <td>8</td>\n",
       "      <td>4</td>\n",
       "      <td>800</td>\n",
       "      <td>Console</td>\n",
       "      <td>inadimplente</td>\n",
       "    </tr>\n",
       "    <tr>\n",
       "      <th>9</th>\n",
       "      <td>Vegeta</td>\n",
       "      <td>9</td>\n",
       "      <td>3</td>\n",
       "      <td>900</td>\n",
       "      <td>Figura</td>\n",
       "      <td>inadimplente</td>\n",
       "    </tr>\n",
       "    <tr>\n",
       "      <th>10</th>\n",
       "      <td>Luffy</td>\n",
       "      <td>10</td>\n",
       "      <td>2</td>\n",
       "      <td>1000</td>\n",
       "      <td>Chapéu</td>\n",
       "      <td>inadimplente</td>\n",
       "    </tr>\n",
       "    <tr>\n",
       "      <th>11</th>\n",
       "      <td>Saitama</td>\n",
       "      <td>11</td>\n",
       "      <td>0</td>\n",
       "      <td>1100</td>\n",
       "      <td>Cinturão</td>\n",
       "      <td>adimplente</td>\n",
       "    </tr>\n",
       "    <tr>\n",
       "      <th>12</th>\n",
       "      <td>Eren</td>\n",
       "      <td>10</td>\n",
       "      <td>7</td>\n",
       "      <td>1000</td>\n",
       "      <td>Espada</td>\n",
       "      <td>inadimplente</td>\n",
       "    </tr>\n",
       "    <tr>\n",
       "      <th>13</th>\n",
       "      <td>Minato</td>\n",
       "      <td>11</td>\n",
       "      <td>6</td>\n",
       "      <td>1100</td>\n",
       "      <td>Roupão</td>\n",
       "      <td>inadimplente</td>\n",
       "    </tr>\n",
       "  </tbody>\n",
       "</table>\n",
       "</div>"
      ],
      "text/plain": [
       "   clientes  mensalidades_pagas  inadimplencias  valor_arrecadado  \\\n",
       "0      João                  12               0              1200   \n",
       "1     Maria                  11               2              1210   \n",
       "2     Pedro                  10               1              1000   \n",
       "3       Ana                  12               0              1200   \n",
       "4    Sakura                   9               3               900   \n",
       "5    Naruto                  10               0              1000   \n",
       "6    Sasuke                  11               2              1100   \n",
       "7    Mikasa                  12               1              1200   \n",
       "8      Goku                   8               4               800   \n",
       "9    Vegeta                   9               3               900   \n",
       "10    Luffy                  10               2              1000   \n",
       "11  Saitama                  11               0              1100   \n",
       "12     Eren                  10               7              1000   \n",
       "13   Minato                  11               6              1100   \n",
       "\n",
       "   produto_mais_comprado      situacao  \n",
       "0               Camiseta    adimplente  \n",
       "1                  Calça  inadimplente  \n",
       "2                  Tênis  inadimplente  \n",
       "3               Camiseta    adimplente  \n",
       "4                  Livro  inadimplente  \n",
       "5                  Mangá    adimplente  \n",
       "6                  Mangá  inadimplente  \n",
       "7                Vestido  inadimplente  \n",
       "8                Console  inadimplente  \n",
       "9                 Figura  inadimplente  \n",
       "10                Chapéu  inadimplente  \n",
       "11              Cinturão    adimplente  \n",
       "12                Espada  inadimplente  \n",
       "13                Roupão  inadimplente  "
      ]
     },
     "execution_count": 49,
     "metadata": {},
     "output_type": "execute_result"
    }
   ],
   "source": [
    "# Usar a função apply para criar a coluna 'SITUAÇÃO'\n",
    "df['situacao'] = df['inadimplencias'].apply(lambda x: 'inadimplente' if x > 0 else 'adimplente')\n",
    "df"
   ]
  }
 ],
 "metadata": {
  "kernelspec": {
   "display_name": "Python 3",
   "language": "python",
   "name": "python3"
  },
  "language_info": {
   "codemirror_mode": {
    "name": "ipython",
    "version": 3
   },
   "file_extension": ".py",
   "mimetype": "text/x-python",
   "name": "python",
   "nbconvert_exporter": "python",
   "pygments_lexer": "ipython3",
   "version": "3.10.7"
  }
 },
 "nbformat": 4,
 "nbformat_minor": 2
}
