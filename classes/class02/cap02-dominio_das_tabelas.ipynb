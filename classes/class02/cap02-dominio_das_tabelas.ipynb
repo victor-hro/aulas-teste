{
 "cells": [
  {
   "cell_type": "markdown",
   "metadata": {},
   "source": [
    "# Capítulo 2: O Domínio das Planilhas\n",
    "\n",
    "Prepare-se para explorar o Pandas DataFrame, a ferramenta mágica que abrirá as portas para análises de dados avançadas. Aprenda a manipular dados de forma ágil.\n",
    "\n",
    "**Introdução ao Pandas DataFrame:**\n",
    "\n",
    "O Pandas é uma biblioteca amplamente utilizada para análise de dados em Python. O Pandas DataFrame é uma estrutura de dados poderosa que permite armazenar, manipular e analisar dados de forma eficiente. Ele é frequentemente usado em projetos de ciência de dados, análise de negócios e muito mais.\n",
    "\n",
    "**Criando um DataFrame:**\n",
    "\n",
    "Você pode criar um DataFrame a partir de diferentes fontes de dados, como arquivos CSV, Excel, bancos de dados ou até mesmo a partir de listas de dicionários em Python. Vamos criar um DataFrame simples:\n",
    "\n",
    "**O que é um DataFrame:**\n"
   ]
  },
  {
   "cell_type": "code",
   "execution_count": 1,
   "metadata": {},
   "outputs": [],
   "source": [
    "import pandas as pd"
   ]
  },
  {
   "cell_type": "code",
   "execution_count": 2,
   "metadata": {},
   "outputs": [
    {
     "data": {
      "text/plain": [
       "{'nome': ('karineGrandeAmor', 'eogabs', 'patraozin', 'parede'),\n",
       " 'data_nascimento': ('1998-04-27', '1955-10-10', '2000-01-01', '2004-12-10'),\n",
       " 'idade': [25, 28, 23, 19],\n",
       " 'cidade': ['EUA', 'São Paulo', 'Rio de Janeiro', 'Santana do Paraíso']}"
      ]
     },
     "execution_count": 2,
     "metadata": {},
     "output_type": "execute_result"
    }
   ],
   "source": [
    "dados = {\n",
    "    \"nome\": (\"karineGrandeAmor\", \"eogabs\", \"patraozin\", \"parede\"),\n",
    "    \"data_nascimento\": ('1998-04-27', '1955-10-10', '2000-01-01', '2004-12-10'),\n",
    "    \"idade\": [25, 28, 23, 19],\n",
    "    \"cidade\": [\"EUA\", \"São Paulo\", \"Rio de Janeiro\", \"Santana do Paraíso\"]\n",
    "}\n",
    "dados"
   ]
  },
  {
   "cell_type": "markdown",
   "metadata": {},
   "source": [
    "**CHAVES**\n",
    "\n",
    "As chaves são os identificadores únicos usados para acessar os valores associados em um dicionário."
   ]
  },
  {
   "cell_type": "code",
   "execution_count": 3,
   "metadata": {},
   "outputs": [
    {
     "data": {
      "text/plain": [
       "dict_keys(['nome', 'data_nascimento', 'idade', 'cidade'])"
      ]
     },
     "execution_count": 3,
     "metadata": {},
     "output_type": "execute_result"
    }
   ],
   "source": [
    "dados.keys()"
   ]
  },
  {
   "cell_type": "markdown",
   "metadata": {},
   "source": [
    "As chaves são usadas para indexar ou buscar os valores correspondentes em um dicionário."
   ]
  },
  {
   "cell_type": "code",
   "execution_count": 4,
   "metadata": {},
   "outputs": [
    {
     "data": {
      "text/plain": [
       "('karineGrandeAmor', 'eogabs', 'patraozin', 'parede')"
      ]
     },
     "execution_count": 4,
     "metadata": {},
     "output_type": "execute_result"
    }
   ],
   "source": [
    "dados['nome']"
   ]
  },
  {
   "cell_type": "markdown",
   "metadata": {},
   "source": [
    "**VALORES**\n",
    "\n",
    "Os valores são os dados associados às chaves em um dicionário."
   ]
  },
  {
   "cell_type": "code",
   "execution_count": 5,
   "metadata": {},
   "outputs": [
    {
     "data": {
      "text/plain": [
       "dict_values([('karineGrandeAmor', 'eogabs', 'patraozin', 'parede'), ('1998-04-27', '1955-10-10', '2000-01-01', '2004-12-10'), [25, 28, 23, 19], ['EUA', 'São Paulo', 'Rio de Janeiro', 'Santana do Paraíso']])"
      ]
     },
     "execution_count": 5,
     "metadata": {},
     "output_type": "execute_result"
    }
   ],
   "source": [
    "dados.values()"
   ]
  },
  {
   "cell_type": "code",
   "execution_count": 6,
   "metadata": {},
   "outputs": [
    {
     "data": {
      "text/plain": [
       "'karineGrandeAmor'"
      ]
     },
     "execution_count": 6,
     "metadata": {},
     "output_type": "execute_result"
    }
   ],
   "source": [
    "# repare que após filtrar as chaves, temos a lista\n",
    "# logo, podemos filtrar a lista utilizando colchetes [].\n",
    "dados['nome'][0]"
   ]
  },
  {
   "cell_type": "code",
   "execution_count": 7,
   "metadata": {},
   "outputs": [
    {
     "data": {
      "text/plain": [
       "'parede'"
      ]
     },
     "execution_count": 7,
     "metadata": {},
     "output_type": "execute_result"
    }
   ],
   "source": [
    "dados['nome'][-1]"
   ]
  },
  {
   "cell_type": "code",
   "execution_count": 8,
   "metadata": {},
   "outputs": [
    {
     "data": {
      "text/html": [
       "<div>\n",
       "<style scoped>\n",
       "    .dataframe tbody tr th:only-of-type {\n",
       "        vertical-align: middle;\n",
       "    }\n",
       "\n",
       "    .dataframe tbody tr th {\n",
       "        vertical-align: top;\n",
       "    }\n",
       "\n",
       "    .dataframe thead th {\n",
       "        text-align: right;\n",
       "    }\n",
       "</style>\n",
       "<table border=\"1\" class=\"dataframe\">\n",
       "  <thead>\n",
       "    <tr style=\"text-align: right;\">\n",
       "      <th></th>\n",
       "      <th>nome</th>\n",
       "      <th>data_nascimento</th>\n",
       "      <th>idade</th>\n",
       "      <th>cidade</th>\n",
       "    </tr>\n",
       "  </thead>\n",
       "  <tbody>\n",
       "    <tr>\n",
       "      <th>0</th>\n",
       "      <td>karineGrandeAmor</td>\n",
       "      <td>1998-04-27</td>\n",
       "      <td>25</td>\n",
       "      <td>EUA</td>\n",
       "    </tr>\n",
       "    <tr>\n",
       "      <th>1</th>\n",
       "      <td>eogabs</td>\n",
       "      <td>1955-10-10</td>\n",
       "      <td>28</td>\n",
       "      <td>São Paulo</td>\n",
       "    </tr>\n",
       "    <tr>\n",
       "      <th>2</th>\n",
       "      <td>patraozin</td>\n",
       "      <td>2000-01-01</td>\n",
       "      <td>23</td>\n",
       "      <td>Rio de Janeiro</td>\n",
       "    </tr>\n",
       "    <tr>\n",
       "      <th>3</th>\n",
       "      <td>parede</td>\n",
       "      <td>2004-12-10</td>\n",
       "      <td>19</td>\n",
       "      <td>Santana do Paraíso</td>\n",
       "    </tr>\n",
       "  </tbody>\n",
       "</table>\n",
       "</div>"
      ],
      "text/plain": [
       "               nome data_nascimento  idade              cidade\n",
       "0  karineGrandeAmor      1998-04-27     25                 EUA\n",
       "1            eogabs      1955-10-10     28           São Paulo\n",
       "2         patraozin      2000-01-01     23      Rio de Janeiro\n",
       "3            parede      2004-12-10     19  Santana do Paraíso"
      ]
     },
     "execution_count": 8,
     "metadata": {},
     "output_type": "execute_result"
    }
   ],
   "source": [
    "# Criar um DataFrame a partir de um dicionário\n",
    "dados = {\n",
    "    \"nome\": (\"karineGrandeAmor\", \"eogabs\", \"patraozin\", \"parede\"),\n",
    "    \"data_nascimento\": ('1998-04-27', '1955-10-10', '2000-01-01', '2004-12-10'),\n",
    "    \"idade\": [25, 28, 23, 19],\n",
    "    \"cidade\": [\"EUA\", \"São Paulo\", \"Rio de Janeiro\", \"Santana do Paraíso\"]\n",
    "}\n",
    "df = pd.DataFrame(dados)\n",
    "df"
   ]
  },
  {
   "cell_type": "markdown",
   "metadata": {},
   "source": [
    "**Explorando um DataFrame:**\n",
    "\n",
    "Uma vez criado, você pode explorar e analisar os dados em um DataFrame. Aqui estão algumas operações comuns:"
   ]
  },
  {
   "cell_type": "code",
   "execution_count": 9,
   "metadata": {},
   "outputs": [
    {
     "data": {
      "text/html": [
       "<div>\n",
       "<style scoped>\n",
       "    .dataframe tbody tr th:only-of-type {\n",
       "        vertical-align: middle;\n",
       "    }\n",
       "\n",
       "    .dataframe tbody tr th {\n",
       "        vertical-align: top;\n",
       "    }\n",
       "\n",
       "    .dataframe thead th {\n",
       "        text-align: right;\n",
       "    }\n",
       "</style>\n",
       "<table border=\"1\" class=\"dataframe\">\n",
       "  <thead>\n",
       "    <tr style=\"text-align: right;\">\n",
       "      <th></th>\n",
       "      <th>nome</th>\n",
       "      <th>data_nascimento</th>\n",
       "      <th>idade</th>\n",
       "      <th>cidade</th>\n",
       "    </tr>\n",
       "  </thead>\n",
       "  <tbody>\n",
       "    <tr>\n",
       "      <th>0</th>\n",
       "      <td>karineGrandeAmor</td>\n",
       "      <td>1998-04-27</td>\n",
       "      <td>25</td>\n",
       "      <td>EUA</td>\n",
       "    </tr>\n",
       "    <tr>\n",
       "      <th>1</th>\n",
       "      <td>eogabs</td>\n",
       "      <td>1955-10-10</td>\n",
       "      <td>28</td>\n",
       "      <td>São Paulo</td>\n",
       "    </tr>\n",
       "  </tbody>\n",
       "</table>\n",
       "</div>"
      ],
      "text/plain": [
       "               nome data_nascimento  idade     cidade\n",
       "0  karineGrandeAmor      1998-04-27     25        EUA\n",
       "1            eogabs      1955-10-10     28  São Paulo"
      ]
     },
     "execution_count": 9,
     "metadata": {},
     "output_type": "execute_result"
    }
   ],
   "source": [
    "# Exibir as primeiras linhas do DataFrame\n",
    "df.head(2)"
   ]
  },
  {
   "cell_type": "code",
   "execution_count": 10,
   "metadata": {},
   "outputs": [
    {
     "data": {
      "text/html": [
       "<div>\n",
       "<style scoped>\n",
       "    .dataframe tbody tr th:only-of-type {\n",
       "        vertical-align: middle;\n",
       "    }\n",
       "\n",
       "    .dataframe tbody tr th {\n",
       "        vertical-align: top;\n",
       "    }\n",
       "\n",
       "    .dataframe thead th {\n",
       "        text-align: right;\n",
       "    }\n",
       "</style>\n",
       "<table border=\"1\" class=\"dataframe\">\n",
       "  <thead>\n",
       "    <tr style=\"text-align: right;\">\n",
       "      <th></th>\n",
       "      <th>nome</th>\n",
       "      <th>data_nascimento</th>\n",
       "      <th>idade</th>\n",
       "      <th>cidade</th>\n",
       "    </tr>\n",
       "  </thead>\n",
       "  <tbody>\n",
       "    <tr>\n",
       "      <th>0</th>\n",
       "      <td>karineGrandeAmor</td>\n",
       "      <td>1998-04-27</td>\n",
       "      <td>25</td>\n",
       "      <td>EUA</td>\n",
       "    </tr>\n",
       "    <tr>\n",
       "      <th>1</th>\n",
       "      <td>eogabs</td>\n",
       "      <td>1955-10-10</td>\n",
       "      <td>28</td>\n",
       "      <td>São Paulo</td>\n",
       "    </tr>\n",
       "    <tr>\n",
       "      <th>2</th>\n",
       "      <td>patraozin</td>\n",
       "      <td>2000-01-01</td>\n",
       "      <td>23</td>\n",
       "      <td>Rio de Janeiro</td>\n",
       "    </tr>\n",
       "    <tr>\n",
       "      <th>3</th>\n",
       "      <td>parede</td>\n",
       "      <td>2004-12-10</td>\n",
       "      <td>19</td>\n",
       "      <td>Santana do Paraíso</td>\n",
       "    </tr>\n",
       "  </tbody>\n",
       "</table>\n",
       "</div>"
      ],
      "text/plain": [
       "               nome data_nascimento  idade              cidade\n",
       "0  karineGrandeAmor      1998-04-27     25                 EUA\n",
       "1            eogabs      1955-10-10     28           São Paulo\n",
       "2         patraozin      2000-01-01     23      Rio de Janeiro\n",
       "3            parede      2004-12-10     19  Santana do Paraíso"
      ]
     },
     "execution_count": 10,
     "metadata": {},
     "output_type": "execute_result"
    }
   ],
   "source": [
    "df.tail()"
   ]
  },
  {
   "cell_type": "code",
   "execution_count": 11,
   "metadata": {},
   "outputs": [
    {
     "data": {
      "text/plain": [
       "(4, 4)"
      ]
     },
     "execution_count": 11,
     "metadata": {},
     "output_type": "execute_result"
    }
   ],
   "source": [
    "# Retornar o número de linhas e colunas do DataFrame\n",
    "df.shape"
   ]
  },
  {
   "cell_type": "markdown",
   "metadata": {},
   "source": [
    "Lembram das tuplas? ↓↓↓"
   ]
  },
  {
   "cell_type": "code",
   "execution_count": 12,
   "metadata": {},
   "outputs": [
    {
     "ename": "TypeError",
     "evalue": "'tuple' object does not support item assignment",
     "output_type": "error",
     "traceback": [
      "\u001b[1;31m---------------------------------------------------------------------------\u001b[0m",
      "\u001b[1;31mTypeError\u001b[0m                                 Traceback (most recent call last)",
      "\u001b[1;32mc:\\Users\\victo\\Desktop\\Victor\\Aulas\\python\\class_01\\cap02-dominio_das_tabelas.ipynb Cell 18\u001b[0m line \u001b[0;36m1\n\u001b[1;32m----> <a href='vscode-notebook-cell:/c%3A/Users/victo/Desktop/Victor/Aulas/python/class_01/cap02-dominio_das_tabelas.ipynb#X21sZmlsZQ%3D%3D?line=0'>1</a>\u001b[0m df\u001b[39m.\u001b[39mshape[\u001b[39m0\u001b[39m] \u001b[39m=\u001b[39m \u001b[39m2\u001b[39m\n",
      "\u001b[1;31mTypeError\u001b[0m: 'tuple' object does not support item assignment"
     ]
    }
   ],
   "source": [
    "df.shape[0] = 2"
   ]
  },
  {
   "cell_type": "code",
   "execution_count": 13,
   "metadata": {},
   "outputs": [
    {
     "data": {
      "text/html": [
       "<div>\n",
       "<style scoped>\n",
       "    .dataframe tbody tr th:only-of-type {\n",
       "        vertical-align: middle;\n",
       "    }\n",
       "\n",
       "    .dataframe tbody tr th {\n",
       "        vertical-align: top;\n",
       "    }\n",
       "\n",
       "    .dataframe thead th {\n",
       "        text-align: right;\n",
       "    }\n",
       "</style>\n",
       "<table border=\"1\" class=\"dataframe\">\n",
       "  <thead>\n",
       "    <tr style=\"text-align: right;\">\n",
       "      <th></th>\n",
       "      <th>idade</th>\n",
       "    </tr>\n",
       "  </thead>\n",
       "  <tbody>\n",
       "    <tr>\n",
       "      <th>count</th>\n",
       "      <td>4.000000</td>\n",
       "    </tr>\n",
       "    <tr>\n",
       "      <th>mean</th>\n",
       "      <td>23.750000</td>\n",
       "    </tr>\n",
       "    <tr>\n",
       "      <th>std</th>\n",
       "      <td>3.774917</td>\n",
       "    </tr>\n",
       "    <tr>\n",
       "      <th>min</th>\n",
       "      <td>19.000000</td>\n",
       "    </tr>\n",
       "    <tr>\n",
       "      <th>25%</th>\n",
       "      <td>22.000000</td>\n",
       "    </tr>\n",
       "    <tr>\n",
       "      <th>50%</th>\n",
       "      <td>24.000000</td>\n",
       "    </tr>\n",
       "    <tr>\n",
       "      <th>75%</th>\n",
       "      <td>25.750000</td>\n",
       "    </tr>\n",
       "    <tr>\n",
       "      <th>max</th>\n",
       "      <td>28.000000</td>\n",
       "    </tr>\n",
       "  </tbody>\n",
       "</table>\n",
       "</div>"
      ],
      "text/plain": [
       "           idade\n",
       "count   4.000000\n",
       "mean   23.750000\n",
       "std     3.774917\n",
       "min    19.000000\n",
       "25%    22.000000\n",
       "50%    24.000000\n",
       "75%    25.750000\n",
       "max    28.000000"
      ]
     },
     "execution_count": 13,
     "metadata": {},
     "output_type": "execute_result"
    }
   ],
   "source": [
    "# Gerar estatísticas resumidas para colunas numéricas\n",
    "df.describe()"
   ]
  },
  {
   "cell_type": "code",
   "execution_count": 14,
   "metadata": {},
   "outputs": [
    {
     "name": "stdout",
     "output_type": "stream",
     "text": [
      "<class 'pandas.core.frame.DataFrame'>\n",
      "RangeIndex: 4 entries, 0 to 3\n",
      "Data columns (total 4 columns):\n",
      " #   Column           Non-Null Count  Dtype \n",
      "---  ------           --------------  ----- \n",
      " 0   nome             4 non-null      object\n",
      " 1   data_nascimento  4 non-null      object\n",
      " 2   idade            4 non-null      int64 \n",
      " 3   cidade           4 non-null      object\n",
      "dtypes: int64(1), object(3)\n",
      "memory usage: 256.0+ bytes\n"
     ]
    }
   ],
   "source": [
    "# Mostrar informações sobre o DataFrame, incluindo tipos de dados e valores nulos\n",
    "df.info()"
   ]
  },
  {
   "cell_type": "markdown",
   "metadata": {},
   "source": [
    "**Acessando Dados:**\n",
    "\n",
    "Você pode acessar dados específicos em um DataFrame usando índices e seleções condicionais. Por exemplo:"
   ]
  },
  {
   "cell_type": "code",
   "execution_count": 15,
   "metadata": {},
   "outputs": [
    {
     "data": {
      "text/html": [
       "<div>\n",
       "<style scoped>\n",
       "    .dataframe tbody tr th:only-of-type {\n",
       "        vertical-align: middle;\n",
       "    }\n",
       "\n",
       "    .dataframe tbody tr th {\n",
       "        vertical-align: top;\n",
       "    }\n",
       "\n",
       "    .dataframe thead th {\n",
       "        text-align: right;\n",
       "    }\n",
       "</style>\n",
       "<table border=\"1\" class=\"dataframe\">\n",
       "  <thead>\n",
       "    <tr style=\"text-align: right;\">\n",
       "      <th></th>\n",
       "      <th>nome</th>\n",
       "      <th>data_nascimento</th>\n",
       "      <th>idade</th>\n",
       "      <th>cidade</th>\n",
       "    </tr>\n",
       "  </thead>\n",
       "  <tbody>\n",
       "    <tr>\n",
       "      <th>0</th>\n",
       "      <td>karineGrandeAmor</td>\n",
       "      <td>1998-04-27</td>\n",
       "      <td>25</td>\n",
       "      <td>EUA</td>\n",
       "    </tr>\n",
       "    <tr>\n",
       "      <th>1</th>\n",
       "      <td>eogabs</td>\n",
       "      <td>1955-10-10</td>\n",
       "      <td>28</td>\n",
       "      <td>São Paulo</td>\n",
       "    </tr>\n",
       "    <tr>\n",
       "      <th>2</th>\n",
       "      <td>patraozin</td>\n",
       "      <td>2000-01-01</td>\n",
       "      <td>23</td>\n",
       "      <td>Rio de Janeiro</td>\n",
       "    </tr>\n",
       "    <tr>\n",
       "      <th>3</th>\n",
       "      <td>parede</td>\n",
       "      <td>2004-12-10</td>\n",
       "      <td>19</td>\n",
       "      <td>Santana do Paraíso</td>\n",
       "    </tr>\n",
       "  </tbody>\n",
       "</table>\n",
       "</div>"
      ],
      "text/plain": [
       "               nome data_nascimento  idade              cidade\n",
       "0  karineGrandeAmor      1998-04-27     25                 EUA\n",
       "1            eogabs      1955-10-10     28           São Paulo\n",
       "2         patraozin      2000-01-01     23      Rio de Janeiro\n",
       "3            parede      2004-12-10     19  Santana do Paraíso"
      ]
     },
     "execution_count": 15,
     "metadata": {},
     "output_type": "execute_result"
    }
   ],
   "source": [
    "df"
   ]
  },
  {
   "cell_type": "code",
   "execution_count": 16,
   "metadata": {},
   "outputs": [
    {
     "data": {
      "text/plain": [
       "0    karineGrandeAmor\n",
       "1              eogabs\n",
       "2           patraozin\n",
       "3              parede\n",
       "Name: nome, dtype: object"
      ]
     },
     "execution_count": 16,
     "metadata": {},
     "output_type": "execute_result"
    }
   ],
   "source": [
    "nomes = df[\"nome\"]\n",
    "nomes"
   ]
  },
  {
   "cell_type": "code",
   "execution_count": 17,
   "metadata": {},
   "outputs": [
    {
     "data": {
      "text/html": [
       "<div>\n",
       "<style scoped>\n",
       "    .dataframe tbody tr th:only-of-type {\n",
       "        vertical-align: middle;\n",
       "    }\n",
       "\n",
       "    .dataframe tbody tr th {\n",
       "        vertical-align: top;\n",
       "    }\n",
       "\n",
       "    .dataframe thead th {\n",
       "        text-align: right;\n",
       "    }\n",
       "</style>\n",
       "<table border=\"1\" class=\"dataframe\">\n",
       "  <thead>\n",
       "    <tr style=\"text-align: right;\">\n",
       "      <th></th>\n",
       "      <th>nome</th>\n",
       "      <th>data_nascimento</th>\n",
       "      <th>idade</th>\n",
       "      <th>cidade</th>\n",
       "    </tr>\n",
       "  </thead>\n",
       "  <tbody>\n",
       "    <tr>\n",
       "      <th>0</th>\n",
       "      <td>karineGrandeAmor</td>\n",
       "      <td>1998-04-27</td>\n",
       "      <td>25</td>\n",
       "      <td>EUA</td>\n",
       "    </tr>\n",
       "    <tr>\n",
       "      <th>1</th>\n",
       "      <td>eogabs</td>\n",
       "      <td>1955-10-10</td>\n",
       "      <td>28</td>\n",
       "      <td>São Paulo</td>\n",
       "    </tr>\n",
       "    <tr>\n",
       "      <th>2</th>\n",
       "      <td>patraozin</td>\n",
       "      <td>2000-01-01</td>\n",
       "      <td>23</td>\n",
       "      <td>Rio de Janeiro</td>\n",
       "    </tr>\n",
       "    <tr>\n",
       "      <th>3</th>\n",
       "      <td>parede</td>\n",
       "      <td>2004-12-10</td>\n",
       "      <td>19</td>\n",
       "      <td>Santana do Paraíso</td>\n",
       "    </tr>\n",
       "  </tbody>\n",
       "</table>\n",
       "</div>"
      ],
      "text/plain": [
       "               nome data_nascimento  idade              cidade\n",
       "0  karineGrandeAmor      1998-04-27     25                 EUA\n",
       "1            eogabs      1955-10-10     28           São Paulo\n",
       "2         patraozin      2000-01-01     23      Rio de Janeiro\n",
       "3            parede      2004-12-10     19  Santana do Paraíso"
      ]
     },
     "execution_count": 17,
     "metadata": {},
     "output_type": "execute_result"
    }
   ],
   "source": [
    "df"
   ]
  },
  {
   "cell_type": "code",
   "execution_count": 18,
   "metadata": {},
   "outputs": [
    {
     "data": {
      "text/html": [
       "<div>\n",
       "<style scoped>\n",
       "    .dataframe tbody tr th:only-of-type {\n",
       "        vertical-align: middle;\n",
       "    }\n",
       "\n",
       "    .dataframe tbody tr th {\n",
       "        vertical-align: top;\n",
       "    }\n",
       "\n",
       "    .dataframe thead th {\n",
       "        text-align: right;\n",
       "    }\n",
       "</style>\n",
       "<table border=\"1\" class=\"dataframe\">\n",
       "  <thead>\n",
       "    <tr style=\"text-align: right;\">\n",
       "      <th></th>\n",
       "      <th>nome</th>\n",
       "      <th>data_nascimento</th>\n",
       "      <th>idade</th>\n",
       "      <th>cidade</th>\n",
       "    </tr>\n",
       "  </thead>\n",
       "  <tbody>\n",
       "    <tr>\n",
       "      <th>0</th>\n",
       "      <td>karineGrandeAmor</td>\n",
       "      <td>1998-04-27</td>\n",
       "      <td>25</td>\n",
       "      <td>EUA</td>\n",
       "    </tr>\n",
       "    <tr>\n",
       "      <th>1</th>\n",
       "      <td>eogabs</td>\n",
       "      <td>1955-10-10</td>\n",
       "      <td>28</td>\n",
       "      <td>São Paulo</td>\n",
       "    </tr>\n",
       "    <tr>\n",
       "      <th>2</th>\n",
       "      <td>patraozin</td>\n",
       "      <td>2000-01-01</td>\n",
       "      <td>23</td>\n",
       "      <td>Rio de Janeiro</td>\n",
       "    </tr>\n",
       "  </tbody>\n",
       "</table>\n",
       "</div>"
      ],
      "text/plain": [
       "               nome data_nascimento  idade          cidade\n",
       "0  karineGrandeAmor      1998-04-27     25             EUA\n",
       "1            eogabs      1955-10-10     28       São Paulo\n",
       "2         patraozin      2000-01-01     23  Rio de Janeiro"
      ]
     },
     "execution_count": 18,
     "metadata": {},
     "output_type": "execute_result"
    }
   ],
   "source": [
    "# Selecionar linhas com base em uma condição\n",
    "adultos = df[df[\"idade\"] > 20]\n",
    "adultos"
   ]
  },
  {
   "cell_type": "markdown",
   "metadata": {},
   "source": [
    "**Modificando e Adicionando Dados:**\n",
    "\n",
    "Você pode modificar valores em um DataFrame, adicionar novas colunas e realizar operações de transformação de dados."
   ]
  },
  {
   "cell_type": "code",
   "execution_count": 19,
   "metadata": {},
   "outputs": [
    {
     "data": {
      "text/html": [
       "<div>\n",
       "<style scoped>\n",
       "    .dataframe tbody tr th:only-of-type {\n",
       "        vertical-align: middle;\n",
       "    }\n",
       "\n",
       "    .dataframe tbody tr th {\n",
       "        vertical-align: top;\n",
       "    }\n",
       "\n",
       "    .dataframe thead th {\n",
       "        text-align: right;\n",
       "    }\n",
       "</style>\n",
       "<table border=\"1\" class=\"dataframe\">\n",
       "  <thead>\n",
       "    <tr style=\"text-align: right;\">\n",
       "      <th></th>\n",
       "      <th>nome</th>\n",
       "      <th>data_nascimento</th>\n",
       "      <th>idade</th>\n",
       "      <th>cidade</th>\n",
       "    </tr>\n",
       "  </thead>\n",
       "  <tbody>\n",
       "    <tr>\n",
       "      <th>0</th>\n",
       "      <td>karineGrandeAmor</td>\n",
       "      <td>1998-04-27</td>\n",
       "      <td>25</td>\n",
       "      <td>EUA</td>\n",
       "    </tr>\n",
       "    <tr>\n",
       "      <th>1</th>\n",
       "      <td>eogabs</td>\n",
       "      <td>1955-10-10</td>\n",
       "      <td>25</td>\n",
       "      <td>São Paulo</td>\n",
       "    </tr>\n",
       "    <tr>\n",
       "      <th>2</th>\n",
       "      <td>patraozin</td>\n",
       "      <td>2000-01-01</td>\n",
       "      <td>23</td>\n",
       "      <td>Rio de Janeiro</td>\n",
       "    </tr>\n",
       "    <tr>\n",
       "      <th>3</th>\n",
       "      <td>parede</td>\n",
       "      <td>2004-12-10</td>\n",
       "      <td>19</td>\n",
       "      <td>Santana do Paraíso</td>\n",
       "    </tr>\n",
       "  </tbody>\n",
       "</table>\n",
       "</div>"
      ],
      "text/plain": [
       "               nome data_nascimento  idade              cidade\n",
       "0  karineGrandeAmor      1998-04-27     25                 EUA\n",
       "1            eogabs      1955-10-10     25           São Paulo\n",
       "2         patraozin      2000-01-01     23      Rio de Janeiro\n",
       "3            parede      2004-12-10     19  Santana do Paraíso"
      ]
     },
     "execution_count": 19,
     "metadata": {},
     "output_type": "execute_result"
    }
   ],
   "source": [
    "df.loc[df[\"nome\"] == \"eogabs\", \"idade\"] = 25\n",
    "df"
   ]
  },
  {
   "cell_type": "code",
   "execution_count": 20,
   "metadata": {},
   "outputs": [
    {
     "data": {
      "text/html": [
       "<div>\n",
       "<style scoped>\n",
       "    .dataframe tbody tr th:only-of-type {\n",
       "        vertical-align: middle;\n",
       "    }\n",
       "\n",
       "    .dataframe tbody tr th {\n",
       "        vertical-align: top;\n",
       "    }\n",
       "\n",
       "    .dataframe thead th {\n",
       "        text-align: right;\n",
       "    }\n",
       "</style>\n",
       "<table border=\"1\" class=\"dataframe\">\n",
       "  <thead>\n",
       "    <tr style=\"text-align: right;\">\n",
       "      <th></th>\n",
       "      <th>nome</th>\n",
       "      <th>data_nascimento</th>\n",
       "      <th>idade</th>\n",
       "      <th>cidade</th>\n",
       "      <th>cargo</th>\n",
       "    </tr>\n",
       "  </thead>\n",
       "  <tbody>\n",
       "    <tr>\n",
       "      <th>0</th>\n",
       "      <td>karineGrandeAmor</td>\n",
       "      <td>1998-04-27</td>\n",
       "      <td>25</td>\n",
       "      <td>EUA</td>\n",
       "      <td>Cientista de Dados</td>\n",
       "    </tr>\n",
       "    <tr>\n",
       "      <th>1</th>\n",
       "      <td>eogabs</td>\n",
       "      <td>1955-10-10</td>\n",
       "      <td>25</td>\n",
       "      <td>São Paulo</td>\n",
       "      <td>Analista de Dados</td>\n",
       "    </tr>\n",
       "    <tr>\n",
       "      <th>2</th>\n",
       "      <td>patraozin</td>\n",
       "      <td>2000-01-01</td>\n",
       "      <td>23</td>\n",
       "      <td>Rio de Janeiro</td>\n",
       "      <td>Engenheiro de Dados</td>\n",
       "    </tr>\n",
       "    <tr>\n",
       "      <th>3</th>\n",
       "      <td>parede</td>\n",
       "      <td>2004-12-10</td>\n",
       "      <td>19</td>\n",
       "      <td>Santana do Paraíso</td>\n",
       "      <td>Engenheiro Analítico</td>\n",
       "    </tr>\n",
       "  </tbody>\n",
       "</table>\n",
       "</div>"
      ],
      "text/plain": [
       "               nome data_nascimento  idade              cidade  \\\n",
       "0  karineGrandeAmor      1998-04-27     25                 EUA   \n",
       "1            eogabs      1955-10-10     25           São Paulo   \n",
       "2         patraozin      2000-01-01     23      Rio de Janeiro   \n",
       "3            parede      2004-12-10     19  Santana do Paraíso   \n",
       "\n",
       "                  cargo  \n",
       "0    Cientista de Dados  \n",
       "1     Analista de Dados  \n",
       "2   Engenheiro de Dados  \n",
       "3  Engenheiro Analítico  "
      ]
     },
     "execution_count": 20,
     "metadata": {},
     "output_type": "execute_result"
    }
   ],
   "source": [
    "# Adicionar uma nova coluna\n",
    "df[\"cargo\"] = [\"Cientista de Dados\", \"Analista de Dados\", \"Engenheiro de Dados\", \"Engenheiro Analítico\"]\n",
    "df"
   ]
  },
  {
   "cell_type": "markdown",
   "metadata": {},
   "source": [
    "**Exemplo de Dados Duplicados:**"
   ]
  },
  {
   "cell_type": "markdown",
   "metadata": {},
   "source": [
    "Neste exemplo, você pode ver que o nome \"eogabs\" aparece duas vezes, criando dados duplicados. Você pode usar o método `duplicated()` para identificar linhas duplicadas:\n"
   ]
  },
  {
   "cell_type": "code",
   "execution_count": 21,
   "metadata": {},
   "outputs": [
    {
     "data": {
      "text/html": [
       "<div>\n",
       "<style scoped>\n",
       "    .dataframe tbody tr th:only-of-type {\n",
       "        vertical-align: middle;\n",
       "    }\n",
       "\n",
       "    .dataframe tbody tr th {\n",
       "        vertical-align: top;\n",
       "    }\n",
       "\n",
       "    .dataframe thead th {\n",
       "        text-align: right;\n",
       "    }\n",
       "</style>\n",
       "<table border=\"1\" class=\"dataframe\">\n",
       "  <thead>\n",
       "    <tr style=\"text-align: right;\">\n",
       "      <th></th>\n",
       "      <th>nome</th>\n",
       "      <th>data_nascimento</th>\n",
       "      <th>idade</th>\n",
       "      <th>cidade</th>\n",
       "    </tr>\n",
       "  </thead>\n",
       "  <tbody>\n",
       "    <tr>\n",
       "      <th>0</th>\n",
       "      <td>karineGrandeAmor</td>\n",
       "      <td>1998-04-27</td>\n",
       "      <td>25</td>\n",
       "      <td>EUA</td>\n",
       "    </tr>\n",
       "    <tr>\n",
       "      <th>1</th>\n",
       "      <td>eogabs</td>\n",
       "      <td>1955-10-10</td>\n",
       "      <td>28</td>\n",
       "      <td>São Paulo</td>\n",
       "    </tr>\n",
       "    <tr>\n",
       "      <th>2</th>\n",
       "      <td>patraozin</td>\n",
       "      <td>2000-01-01</td>\n",
       "      <td>23</td>\n",
       "      <td>Rio de Janeiro</td>\n",
       "    </tr>\n",
       "    <tr>\n",
       "      <th>3</th>\n",
       "      <td>parede</td>\n",
       "      <td>2004-12-10</td>\n",
       "      <td>19</td>\n",
       "      <td>Santana do Paraíso</td>\n",
       "    </tr>\n",
       "    <tr>\n",
       "      <th>4</th>\n",
       "      <td>patraozin</td>\n",
       "      <td>2000-01-01</td>\n",
       "      <td>23</td>\n",
       "      <td>Rio de Janeiro</td>\n",
       "    </tr>\n",
       "  </tbody>\n",
       "</table>\n",
       "</div>"
      ],
      "text/plain": [
       "               nome data_nascimento  idade              cidade\n",
       "0  karineGrandeAmor      1998-04-27     25                 EUA\n",
       "1            eogabs      1955-10-10     28           São Paulo\n",
       "2         patraozin      2000-01-01     23      Rio de Janeiro\n",
       "3            parede      2004-12-10     19  Santana do Paraíso\n",
       "4         patraozin      2000-01-01     23      Rio de Janeiro"
      ]
     },
     "execution_count": 21,
     "metadata": {},
     "output_type": "execute_result"
    }
   ],
   "source": [
    "# Criar um DataFrame a partir de um dicionário\n",
    "dados = {\n",
    "    \"nome\": (\"karineGrandeAmor\", \"eogabs\", \"patraozin\", \"parede\", \"patraozin\"),\n",
    "    \"data_nascimento\": ('1998-04-27', '1955-10-10', '2000-01-01', '2004-12-10', '2000-01-01'),\n",
    "    \"idade\": [25, 28, 23, 19, 23],\n",
    "    \"cidade\": [\"EUA\", \"São Paulo\", \"Rio de Janeiro\", \"Santana do Paraíso\", \"Rio de Janeiro\"]\n",
    "}\n",
    "\n",
    "df = pd.DataFrame(dados)\n",
    "df"
   ]
  },
  {
   "cell_type": "code",
   "execution_count": 22,
   "metadata": {},
   "outputs": [
    {
     "data": {
      "text/html": [
       "<div>\n",
       "<style scoped>\n",
       "    .dataframe tbody tr th:only-of-type {\n",
       "        vertical-align: middle;\n",
       "    }\n",
       "\n",
       "    .dataframe tbody tr th {\n",
       "        vertical-align: top;\n",
       "    }\n",
       "\n",
       "    .dataframe thead th {\n",
       "        text-align: right;\n",
       "    }\n",
       "</style>\n",
       "<table border=\"1\" class=\"dataframe\">\n",
       "  <thead>\n",
       "    <tr style=\"text-align: right;\">\n",
       "      <th></th>\n",
       "      <th>nome</th>\n",
       "      <th>data_nascimento</th>\n",
       "      <th>idade</th>\n",
       "      <th>cidade</th>\n",
       "    </tr>\n",
       "  </thead>\n",
       "  <tbody>\n",
       "    <tr>\n",
       "      <th>4</th>\n",
       "      <td>patraozin</td>\n",
       "      <td>2000-01-01</td>\n",
       "      <td>23</td>\n",
       "      <td>Rio de Janeiro</td>\n",
       "    </tr>\n",
       "  </tbody>\n",
       "</table>\n",
       "</div>"
      ],
      "text/plain": [
       "        nome data_nascimento  idade          cidade\n",
       "4  patraozin      2000-01-01     23  Rio de Janeiro"
      ]
     },
     "execution_count": 22,
     "metadata": {},
     "output_type": "execute_result"
    }
   ],
   "source": [
    "df[df.duplicated()]"
   ]
  },
  {
   "cell_type": "code",
   "execution_count": 23,
   "metadata": {},
   "outputs": [
    {
     "name": "stdout",
     "output_type": "stream",
     "text": [
      "Quantidade de duplicatas: 1\n"
     ]
    }
   ],
   "source": [
    "qtd_duplicatas = df.duplicated().sum()\n",
    "print(f\"Quantidade de duplicatas: {qtd_duplicatas}\")"
   ]
  },
  {
   "cell_type": "code",
   "execution_count": 24,
   "metadata": {},
   "outputs": [
    {
     "data": {
      "text/html": [
       "<div>\n",
       "<style scoped>\n",
       "    .dataframe tbody tr th:only-of-type {\n",
       "        vertical-align: middle;\n",
       "    }\n",
       "\n",
       "    .dataframe tbody tr th {\n",
       "        vertical-align: top;\n",
       "    }\n",
       "\n",
       "    .dataframe thead th {\n",
       "        text-align: right;\n",
       "    }\n",
       "</style>\n",
       "<table border=\"1\" class=\"dataframe\">\n",
       "  <thead>\n",
       "    <tr style=\"text-align: right;\">\n",
       "      <th></th>\n",
       "      <th>nome</th>\n",
       "      <th>data_nascimento</th>\n",
       "      <th>idade</th>\n",
       "      <th>cidade</th>\n",
       "    </tr>\n",
       "  </thead>\n",
       "  <tbody>\n",
       "    <tr>\n",
       "      <th>0</th>\n",
       "      <td>karineGrandeAmor</td>\n",
       "      <td>1998-04-27</td>\n",
       "      <td>25</td>\n",
       "      <td>EUA</td>\n",
       "    </tr>\n",
       "    <tr>\n",
       "      <th>1</th>\n",
       "      <td>eogabs</td>\n",
       "      <td>1955-10-10</td>\n",
       "      <td>28</td>\n",
       "      <td>São Paulo</td>\n",
       "    </tr>\n",
       "    <tr>\n",
       "      <th>2</th>\n",
       "      <td>patraozin</td>\n",
       "      <td>2000-01-01</td>\n",
       "      <td>23</td>\n",
       "      <td>Rio de Janeiro</td>\n",
       "    </tr>\n",
       "    <tr>\n",
       "      <th>3</th>\n",
       "      <td>parede</td>\n",
       "      <td>2004-12-10</td>\n",
       "      <td>19</td>\n",
       "      <td>Santana do Paraíso</td>\n",
       "    </tr>\n",
       "  </tbody>\n",
       "</table>\n",
       "</div>"
      ],
      "text/plain": [
       "               nome data_nascimento  idade              cidade\n",
       "0  karineGrandeAmor      1998-04-27     25                 EUA\n",
       "1            eogabs      1955-10-10     28           São Paulo\n",
       "2         patraozin      2000-01-01     23      Rio de Janeiro\n",
       "3            parede      2004-12-10     19  Santana do Paraíso"
      ]
     },
     "execution_count": 24,
     "metadata": {},
     "output_type": "execute_result"
    }
   ],
   "source": [
    "df.drop_duplicates()"
   ]
  },
  {
   "cell_type": "markdown",
   "metadata": {},
   "source": [
    "**Exemplo de Dados NaN:**\n",
    "\n",
    "Dados NaN (Not a Number) representam valores ausentes ou inexistentes em um DataFrame. Aqui está um exemplo:\n"
   ]
  },
  {
   "cell_type": "code",
   "execution_count": 25,
   "metadata": {},
   "outputs": [
    {
     "data": {
      "text/html": [
       "<div>\n",
       "<style scoped>\n",
       "    .dataframe tbody tr th:only-of-type {\n",
       "        vertical-align: middle;\n",
       "    }\n",
       "\n",
       "    .dataframe tbody tr th {\n",
       "        vertical-align: top;\n",
       "    }\n",
       "\n",
       "    .dataframe thead th {\n",
       "        text-align: right;\n",
       "    }\n",
       "</style>\n",
       "<table border=\"1\" class=\"dataframe\">\n",
       "  <thead>\n",
       "    <tr style=\"text-align: right;\">\n",
       "      <th></th>\n",
       "      <th>nome</th>\n",
       "      <th>data_nascimento</th>\n",
       "      <th>idade</th>\n",
       "      <th>cidade</th>\n",
       "    </tr>\n",
       "  </thead>\n",
       "  <tbody>\n",
       "    <tr>\n",
       "      <th>0</th>\n",
       "      <td>karineGrandeAmor</td>\n",
       "      <td>1998-04-27</td>\n",
       "      <td>25.0</td>\n",
       "      <td>EUA</td>\n",
       "    </tr>\n",
       "    <tr>\n",
       "      <th>1</th>\n",
       "      <td>eogabs</td>\n",
       "      <td>1955-10-10</td>\n",
       "      <td>NaN</td>\n",
       "      <td>São Paulo</td>\n",
       "    </tr>\n",
       "    <tr>\n",
       "      <th>2</th>\n",
       "      <td>patraozin</td>\n",
       "      <td>2000-01-01</td>\n",
       "      <td>23.0</td>\n",
       "      <td>Rio de Janeiro</td>\n",
       "    </tr>\n",
       "    <tr>\n",
       "      <th>3</th>\n",
       "      <td>NaN</td>\n",
       "      <td>2004-12-10</td>\n",
       "      <td>19.0</td>\n",
       "      <td>Santana do Paraíso</td>\n",
       "    </tr>\n",
       "  </tbody>\n",
       "</table>\n",
       "</div>"
      ],
      "text/plain": [
       "               nome data_nascimento  idade              cidade\n",
       "0  karineGrandeAmor      1998-04-27   25.0                 EUA\n",
       "1            eogabs      1955-10-10    NaN           São Paulo\n",
       "2         patraozin      2000-01-01   23.0      Rio de Janeiro\n",
       "3               NaN      2004-12-10   19.0  Santana do Paraíso"
      ]
     },
     "execution_count": 25,
     "metadata": {},
     "output_type": "execute_result"
    }
   ],
   "source": [
    "import numpy as np\n",
    "\n",
    "dados = {\n",
    "    \"nome\": (\"karineGrandeAmor\", \"eogabs\", \"patraozin\", np.nan),\n",
    "    \"data_nascimento\": ('1998-04-27', '1955-10-10', '2000-01-01', '2004-12-10'),\n",
    "    \"idade\": [25, np.nan, 23, 19],\n",
    "    \"cidade\": [\"EUA\", \"São Paulo\", \"Rio de Janeiro\", \"Santana do Paraíso\"]\n",
    "}\n",
    "\n",
    "df = pd.DataFrame(dados)\n",
    "df"
   ]
  },
  {
   "cell_type": "markdown",
   "metadata": {},
   "source": [
    "Neste exemplo, usamos `np.nan` do NumPy para representar valores NaN. Você pode usar o método `isna()` ou `isnull()` para identificar valores NaN:"
   ]
  },
  {
   "cell_type": "code",
   "execution_count": 26,
   "metadata": {},
   "outputs": [
    {
     "data": {
      "text/plain": [
       "nome               1\n",
       "data_nascimento    0\n",
       "idade              1\n",
       "cidade             0\n",
       "dtype: int64"
      ]
     },
     "execution_count": 26,
     "metadata": {},
     "output_type": "execute_result"
    }
   ],
   "source": [
    "df.isna().sum()"
   ]
  },
  {
   "cell_type": "code",
   "execution_count": 27,
   "metadata": {},
   "outputs": [
    {
     "data": {
      "text/html": [
       "<div>\n",
       "<style scoped>\n",
       "    .dataframe tbody tr th:only-of-type {\n",
       "        vertical-align: middle;\n",
       "    }\n",
       "\n",
       "    .dataframe tbody tr th {\n",
       "        vertical-align: top;\n",
       "    }\n",
       "\n",
       "    .dataframe thead th {\n",
       "        text-align: right;\n",
       "    }\n",
       "</style>\n",
       "<table border=\"1\" class=\"dataframe\">\n",
       "  <thead>\n",
       "    <tr style=\"text-align: right;\">\n",
       "      <th></th>\n",
       "      <th>nome</th>\n",
       "      <th>data_nascimento</th>\n",
       "      <th>idade</th>\n",
       "      <th>cidade</th>\n",
       "    </tr>\n",
       "  </thead>\n",
       "  <tbody>\n",
       "    <tr>\n",
       "      <th>3</th>\n",
       "      <td>NaN</td>\n",
       "      <td>2004-12-10</td>\n",
       "      <td>19.0</td>\n",
       "      <td>Santana do Paraíso</td>\n",
       "    </tr>\n",
       "  </tbody>\n",
       "</table>\n",
       "</div>"
      ],
      "text/plain": [
       "  nome data_nascimento  idade              cidade\n",
       "3  NaN      2004-12-10   19.0  Santana do Paraíso"
      ]
     },
     "execution_count": 27,
     "metadata": {},
     "output_type": "execute_result"
    }
   ],
   "source": [
    "df.loc[df.nome.isna()]"
   ]
  },
  {
   "cell_type": "code",
   "execution_count": 28,
   "metadata": {},
   "outputs": [
    {
     "data": {
      "text/html": [
       "<div>\n",
       "<style scoped>\n",
       "    .dataframe tbody tr th:only-of-type {\n",
       "        vertical-align: middle;\n",
       "    }\n",
       "\n",
       "    .dataframe tbody tr th {\n",
       "        vertical-align: top;\n",
       "    }\n",
       "\n",
       "    .dataframe thead th {\n",
       "        text-align: right;\n",
       "    }\n",
       "</style>\n",
       "<table border=\"1\" class=\"dataframe\">\n",
       "  <thead>\n",
       "    <tr style=\"text-align: right;\">\n",
       "      <th></th>\n",
       "      <th>nome</th>\n",
       "      <th>data_nascimento</th>\n",
       "      <th>idade</th>\n",
       "      <th>cidade</th>\n",
       "    </tr>\n",
       "  </thead>\n",
       "  <tbody>\n",
       "    <tr>\n",
       "      <th>1</th>\n",
       "      <td>eogabs</td>\n",
       "      <td>1955-10-10</td>\n",
       "      <td>NaN</td>\n",
       "      <td>São Paulo</td>\n",
       "    </tr>\n",
       "  </tbody>\n",
       "</table>\n",
       "</div>"
      ],
      "text/plain": [
       "     nome data_nascimento  idade     cidade\n",
       "1  eogabs      1955-10-10    NaN  São Paulo"
      ]
     },
     "execution_count": 28,
     "metadata": {},
     "output_type": "execute_result"
    }
   ],
   "source": [
    "df.loc[df.idade.isna()]"
   ]
  },
  {
   "cell_type": "markdown",
   "metadata": {},
   "source": [
    "Preenchendo NaN com a média da coluna:"
   ]
  },
  {
   "cell_type": "code",
   "execution_count": 29,
   "metadata": {},
   "outputs": [
    {
     "data": {
      "text/plain": [
       "0    25.0\n",
       "1     0.0\n",
       "2    23.0\n",
       "3    19.0\n",
       "Name: idade, dtype: float64"
      ]
     },
     "execution_count": 29,
     "metadata": {},
     "output_type": "execute_result"
    }
   ],
   "source": [
    "# Preencher todos os NaN na coluna \"Idade\" com o valor 0\n",
    "df[\"idade\"].fillna(0)"
   ]
  },
  {
   "cell_type": "code",
   "execution_count": 30,
   "metadata": {},
   "outputs": [
    {
     "data": {
      "text/plain": [
       "0    karineGrandeAmor\n",
       "1              eogabs\n",
       "2           patraozin\n",
       "3        Desconhecido\n",
       "Name: nome, dtype: object"
      ]
     },
     "execution_count": 30,
     "metadata": {},
     "output_type": "execute_result"
    }
   ],
   "source": [
    "# Preencher todos os NaN na coluna \"Nome\" com o valor \"Desconhecido\"\n",
    "df[\"nome\"].fillna(\"Desconhecido\")"
   ]
  },
  {
   "cell_type": "code",
   "execution_count": 31,
   "metadata": {},
   "outputs": [
    {
     "data": {
      "text/plain": [
       "22.333333333333332"
      ]
     },
     "execution_count": 31,
     "metadata": {},
     "output_type": "execute_result"
    }
   ],
   "source": [
    "# Calcular a média da coluna \"Idade\" e preencher os NaN com essa média\n",
    "media_idade = df[\"idade\"].mean()\n",
    "media_idade"
   ]
  },
  {
   "cell_type": "code",
   "execution_count": 32,
   "metadata": {},
   "outputs": [
    {
     "data": {
      "text/plain": [
       "0    25.000000\n",
       "1    22.333333\n",
       "2    23.000000\n",
       "3    19.000000\n",
       "Name: idade, dtype: float64"
      ]
     },
     "execution_count": 32,
     "metadata": {},
     "output_type": "execute_result"
    }
   ],
   "source": [
    "df[\"idade\"].fillna(media_idade)"
   ]
  },
  {
   "cell_type": "markdown",
   "metadata": {},
   "source": [
    "**Por que não adicionamos valores a uma variável nos exemplos anteriores:**\n",
    "\n",
    "1. **Não adicionar valores a uma variável:** Nos exemplos anteriores, não adicionamos os resultados do preenchimento de NaN a variáveis adicionais porque queríamos apenas demonstrar o efeito do preenchimento. Ao realizar o preenchimento sem atribuir o resultado a uma variável, o DataFrame original é modificado temporariamente, mas não é armazenado em uma nova variável. Isso é útil quando você deseja apenas visualizar o resultado sem alterar permanentemente o DataFrame original.\n",
    "\n",
    "2. **Não usar `inplace=True`:** O argumento `inplace` no método `fillna()` permite que você especifique se deseja modificar o DataFrame original (quando `inplace=True`) ou criar uma cópia modificada sem afetar o original (quando `inplace=False`, que é o padrão). Nos exemplos anteriores, não usamos `inplace=True` porque queríamos manter o DataFrame original inalterado para futuras operações. Ao não usar `inplace`, você pode revisar o resultado, verificar se está correto e, se necessário, atribuí-lo a uma nova variável ou atualizar o DataFrame original mais tarde.\n",
    "\n",
    "**Exemplo com `inplace=True` e atribuição a uma variável:**"
   ]
  },
  {
   "cell_type": "code",
   "execution_count": 33,
   "metadata": {},
   "outputs": [
    {
     "data": {
      "text/html": [
       "<div>\n",
       "<style scoped>\n",
       "    .dataframe tbody tr th:only-of-type {\n",
       "        vertical-align: middle;\n",
       "    }\n",
       "\n",
       "    .dataframe tbody tr th {\n",
       "        vertical-align: top;\n",
       "    }\n",
       "\n",
       "    .dataframe thead th {\n",
       "        text-align: right;\n",
       "    }\n",
       "</style>\n",
       "<table border=\"1\" class=\"dataframe\">\n",
       "  <thead>\n",
       "    <tr style=\"text-align: right;\">\n",
       "      <th></th>\n",
       "      <th>nome</th>\n",
       "      <th>data_nascimento</th>\n",
       "      <th>idade</th>\n",
       "      <th>cidade</th>\n",
       "    </tr>\n",
       "  </thead>\n",
       "  <tbody>\n",
       "    <tr>\n",
       "      <th>0</th>\n",
       "      <td>karineGrandeAmor</td>\n",
       "      <td>1998-04-27</td>\n",
       "      <td>25.0</td>\n",
       "      <td>EUA</td>\n",
       "    </tr>\n",
       "    <tr>\n",
       "      <th>1</th>\n",
       "      <td>eogabs</td>\n",
       "      <td>1955-10-10</td>\n",
       "      <td>NaN</td>\n",
       "      <td>São Paulo</td>\n",
       "    </tr>\n",
       "    <tr>\n",
       "      <th>2</th>\n",
       "      <td>patraozin</td>\n",
       "      <td>2000-01-01</td>\n",
       "      <td>23.0</td>\n",
       "      <td>Rio de Janeiro</td>\n",
       "    </tr>\n",
       "    <tr>\n",
       "      <th>3</th>\n",
       "      <td>NaN</td>\n",
       "      <td>2004-12-10</td>\n",
       "      <td>19.0</td>\n",
       "      <td>Santana do Paraíso</td>\n",
       "    </tr>\n",
       "  </tbody>\n",
       "</table>\n",
       "</div>"
      ],
      "text/plain": [
       "               nome data_nascimento  idade              cidade\n",
       "0  karineGrandeAmor      1998-04-27   25.0                 EUA\n",
       "1            eogabs      1955-10-10    NaN           São Paulo\n",
       "2         patraozin      2000-01-01   23.0      Rio de Janeiro\n",
       "3               NaN      2004-12-10   19.0  Santana do Paraíso"
      ]
     },
     "execution_count": 33,
     "metadata": {},
     "output_type": "execute_result"
    }
   ],
   "source": [
    "import pandas as pd\n",
    "import numpy as np\n",
    "\n",
    "dados = {\n",
    "    \"nome\": (\"karineGrandeAmor\", \"eogabs\", \"patraozin\", np.nan),\n",
    "    \"data_nascimento\": ('1998-04-27', '1955-10-10', '2000-01-01', '2004-12-10'),\n",
    "    \"idade\": [25, np.nan, 23, 19],\n",
    "    \"cidade\": [\"EUA\", \"São Paulo\", \"Rio de Janeiro\", \"Santana do Paraíso\"]\n",
    "}\n",
    "\n",
    "df = pd.DataFrame(dados)\n",
    "df\n"
   ]
  },
  {
   "cell_type": "code",
   "execution_count": 34,
   "metadata": {},
   "outputs": [
    {
     "data": {
      "text/html": [
       "<div>\n",
       "<style scoped>\n",
       "    .dataframe tbody tr th:only-of-type {\n",
       "        vertical-align: middle;\n",
       "    }\n",
       "\n",
       "    .dataframe tbody tr th {\n",
       "        vertical-align: top;\n",
       "    }\n",
       "\n",
       "    .dataframe thead th {\n",
       "        text-align: right;\n",
       "    }\n",
       "</style>\n",
       "<table border=\"1\" class=\"dataframe\">\n",
       "  <thead>\n",
       "    <tr style=\"text-align: right;\">\n",
       "      <th></th>\n",
       "      <th>nome</th>\n",
       "      <th>data_nascimento</th>\n",
       "      <th>idade</th>\n",
       "      <th>cidade</th>\n",
       "    </tr>\n",
       "  </thead>\n",
       "  <tbody>\n",
       "    <tr>\n",
       "      <th>0</th>\n",
       "      <td>karineGrandeAmor</td>\n",
       "      <td>1998-04-27</td>\n",
       "      <td>25.0</td>\n",
       "      <td>EUA</td>\n",
       "    </tr>\n",
       "    <tr>\n",
       "      <th>1</th>\n",
       "      <td>eogabs</td>\n",
       "      <td>1955-10-10</td>\n",
       "      <td>NaN</td>\n",
       "      <td>São Paulo</td>\n",
       "    </tr>\n",
       "    <tr>\n",
       "      <th>2</th>\n",
       "      <td>patraozin</td>\n",
       "      <td>2000-01-01</td>\n",
       "      <td>23.0</td>\n",
       "      <td>Rio de Janeiro</td>\n",
       "    </tr>\n",
       "    <tr>\n",
       "      <th>3</th>\n",
       "      <td>patraozin</td>\n",
       "      <td>2004-12-10</td>\n",
       "      <td>19.0</td>\n",
       "      <td>Santana do Paraíso</td>\n",
       "    </tr>\n",
       "  </tbody>\n",
       "</table>\n",
       "</div>"
      ],
      "text/plain": [
       "               nome data_nascimento  idade              cidade\n",
       "0  karineGrandeAmor      1998-04-27   25.0                 EUA\n",
       "1            eogabs      1955-10-10    NaN           São Paulo\n",
       "2         patraozin      2000-01-01   23.0      Rio de Janeiro\n",
       "3         patraozin      2004-12-10   19.0  Santana do Paraíso"
      ]
     },
     "execution_count": 34,
     "metadata": {},
     "output_type": "execute_result"
    }
   ],
   "source": [
    "# Preencher os NaN na coluna \"Nome\" com os valores anteriores (forward fill) e usar inplace=True\n",
    "df[\"nome\"].fillna(method=\"ffill\", inplace=True)\n",
    "df"
   ]
  },
  {
   "cell_type": "code",
   "execution_count": 35,
   "metadata": {},
   "outputs": [
    {
     "data": {
      "text/html": [
       "<div>\n",
       "<style scoped>\n",
       "    .dataframe tbody tr th:only-of-type {\n",
       "        vertical-align: middle;\n",
       "    }\n",
       "\n",
       "    .dataframe tbody tr th {\n",
       "        vertical-align: top;\n",
       "    }\n",
       "\n",
       "    .dataframe thead th {\n",
       "        text-align: right;\n",
       "    }\n",
       "</style>\n",
       "<table border=\"1\" class=\"dataframe\">\n",
       "  <thead>\n",
       "    <tr style=\"text-align: right;\">\n",
       "      <th></th>\n",
       "      <th>nome</th>\n",
       "      <th>data_nascimento</th>\n",
       "      <th>idade</th>\n",
       "      <th>cidade</th>\n",
       "    </tr>\n",
       "  </thead>\n",
       "  <tbody>\n",
       "    <tr>\n",
       "      <th>0</th>\n",
       "      <td>karineGrandeAmor</td>\n",
       "      <td>1998-04-27</td>\n",
       "      <td>25.0</td>\n",
       "      <td>EUA</td>\n",
       "    </tr>\n",
       "    <tr>\n",
       "      <th>1</th>\n",
       "      <td>eogabs</td>\n",
       "      <td>1955-10-10</td>\n",
       "      <td>23.0</td>\n",
       "      <td>São Paulo</td>\n",
       "    </tr>\n",
       "    <tr>\n",
       "      <th>2</th>\n",
       "      <td>patraozin</td>\n",
       "      <td>2000-01-01</td>\n",
       "      <td>23.0</td>\n",
       "      <td>Rio de Janeiro</td>\n",
       "    </tr>\n",
       "    <tr>\n",
       "      <th>3</th>\n",
       "      <td>patraozin</td>\n",
       "      <td>2004-12-10</td>\n",
       "      <td>19.0</td>\n",
       "      <td>Santana do Paraíso</td>\n",
       "    </tr>\n",
       "  </tbody>\n",
       "</table>\n",
       "</div>"
      ],
      "text/plain": [
       "               nome data_nascimento  idade              cidade\n",
       "0  karineGrandeAmor      1998-04-27   25.0                 EUA\n",
       "1            eogabs      1955-10-10   23.0           São Paulo\n",
       "2         patraozin      2000-01-01   23.0      Rio de Janeiro\n",
       "3         patraozin      2004-12-10   19.0  Santana do Paraíso"
      ]
     },
     "execution_count": 35,
     "metadata": {},
     "output_type": "execute_result"
    }
   ],
   "source": [
    "# Preencher os NaN na coluna \"Idade\" com os valores posteriores (backward fill) e atribuir a uma nova variável\n",
    "df['idade'] = df[\"idade\"].fillna(method=\"bfill\")\n",
    "df"
   ]
  },
  {
   "cell_type": "markdown",
   "metadata": {},
   "source": [
    "Neste exemplo, a primeira operação usa `inplace=True` para preencher os NaN na coluna \"Nome\" no DataFrame original, enquanto a segunda operação preenche os NaN na coluna \"Idade\" e atribui o resultado a uma nova variável chamada `df_idade_preenchida`. Isso demonstra como você pode escolher entre modificar o DataFrame original ou criar uma cópia modificada, dependendo das suas necessidades."
   ]
  },
  {
   "cell_type": "markdown",
   "metadata": {},
   "source": [
    "# Exercício: Filtrando Funcionários\n",
    "\n",
    "Você recebeu um DataFrame fictício com informações sobre funcionários de uma empresa. O DataFrame possui as seguintes colunas:\n",
    "\n",
    "- \"Nome\": Nome do funcionário.\n",
    "- \"Idade\": Idade do funcionário.\n",
    "- \"Cargo\": Cargo do funcionário.\n",
    "- \"Salario\": Salário do funcionário.\n",
    "- \"Cidade\": Cidade onde o funcionário trabalha.\n",
    "\n",
    "Sua tarefa é usar a função `loc` do Pandas para aplicar filtros e encontrar funcionários que atendam a critérios específicos.\n",
    "\n",
    "**Critérios de Filtragem:**\n",
    "\n",
    "1. Adicione a coluna cidade.\n",
    "2. Encontre todos os funcionários com idade inferior a 30 anos.\n",
    "3. Encontre todos os funcionários com salários acima de 60.000.\n",
    "\n",
    "**Instruções:**\n",
    "\n",
    "1. Crie um DataFrame com os dados fornecidos (veja abaixo).\n",
    "2. Adicione a coluna 'cidade' conforme orientado na célula de exercício.\n",
    "3. Use a função `loc` para aplicar os critérios de filtragem.\n",
    "4. Exiba os funcionários que atendem a cada critério em separado.\n",
    "\n",
    "**Dados do DataFrame:**"
   ]
  },
  {
   "cell_type": "code",
   "execution_count": 36,
   "metadata": {},
   "outputs": [],
   "source": [
    "dados = {\n",
    "    \"nome\": [\"Alice\", \"Bob\", \"Charlie\", \"David\", \"Eve\", \"Frank\", \"Grace\", \"Hank\", \"Ivy\", \"Jack\"],\n",
    "    \"idade\": [30, 25, 22, 28, 35, 40, 33, 29, 27, 32],\n",
    "    \"cargo\": [\"Gerente\", \"Analista\", \"Analista\", \"Analista\", \"Gerente\", \"Diretor\", \"Analista\", \"Analista\", \"Gerente\", \"Diretor\"],\n",
    "    \"salario\": [60000, 50000, 52000, 48000, 70000, 90000, 55000, 51000, 62000, 95000]\n",
    "}"
   ]
  },
  {
   "cell_type": "markdown",
   "metadata": {},
   "source": [
    "**Dica:** Use operadores lógicos para combinar múltiplos critérios de filtragem.\n",
    "\n",
    "**Resultado Esperado:**\n",
    "\n",
    "Você deve ser capaz de identificar e exibir os funcionários que atendem aos critérios de filtragem especificados. Certifique-se de usar a função `loc` para realizar a filtragem.\n",
    "\n",
    "**Observação:** Este exercício tem como objetivo praticar a aplicação de filtros em DataFrames usando o Pandas, uma habilidade importante para análise de dados.\n",
    "\n",
    "**Resposta:**\n",
    "\n",
    "![Alt text](image.png)"
   ]
  },
  {
   "cell_type": "code",
   "execution_count": 37,
   "metadata": {},
   "outputs": [
    {
     "name": "stdout",
     "output_type": "stream",
     "text": [
      "DataFrame completo:\n"
     ]
    }
   ],
   "source": [
    "# Comece seu código aqui\n",
    "df = ...\n",
    "\n",
    "# Adicionar uma coluna \"Cidade\"\n",
    "cidades = [\"São Paulo\", \"Rio de Janeiro\", \"Belo Horizonte\", \"São Paulo\", \"Rio de Janeiro\", \"São Paulo\", \"Belo Horizonte\", \"Belo Horizonte\", \"São Paulo\", \"São Paulo\"]\n",
    "# ... = cidades\n",
    "\n",
    "# Exibir o DataFrame completo\n",
    "print(\"DataFrame completo:\")\n",
    "# ...\n"
   ]
  },
  {
   "cell_type": "code",
   "execution_count": 38,
   "metadata": {},
   "outputs": [
    {
     "name": "stdout",
     "output_type": "stream",
     "text": [
      "\n",
      "Funcionários com salários acima de 60000 e idade inferior a 30 anos:\n"
     ]
    }
   ],
   "source": [
    "# Usar filtros com loc para encontrar funcionários com salários acima de 60000 e idade inferior a 30 anos\n",
    "# filtro = ...\n",
    "# funcionarios_selecionados = \n",
    "\n",
    "# Exibir os funcionários que atendem aos critérios\n",
    "print(\"\\nFuncionários com salários acima de 60000 e idade inferior a 30 anos:\")\n",
    "# funcionarios_selecionados"
   ]
  }
 ],
 "metadata": {
  "kernelspec": {
   "display_name": "datascience-env",
   "language": "python",
   "name": "python3"
  },
  "language_info": {
   "codemirror_mode": {
    "name": "ipython",
    "version": 3
   },
   "file_extension": ".py",
   "mimetype": "text/x-python",
   "name": "python",
   "nbconvert_exporter": "python",
   "pygments_lexer": "ipython3",
   "version": "3.10.7"
  },
  "orig_nbformat": 4
 },
 "nbformat": 4,
 "nbformat_minor": 2
}
